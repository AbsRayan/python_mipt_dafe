{
 "cells": [
  {
   "cell_type": "markdown",
   "metadata": {},
   "source": [
    "# Построение трехмерных графиков и анимации\n",
    "\n",
    "Не забудьте выполнить задачи Контеста:\n",
    "- [Контест](https://contest.yandex.ru/contest/76367/enter) для 413 группы;\n",
    "- [Контест](https://contest.yandex.ru/contest/76368/enter) для 414 группы;\n",
    "- [Контест](https://contest.yandex.ru/contest/76369/enter) для 415 группы;\n",
    "- [Контест](https://contest.yandex.ru/contest/76369/enter) для 416 группы;\n",
    "\n",
    "На предыдущих занятиях мы рассматривали исключительно двумерные статические графики. Однако, в некоторых ситуациях этого недостаточно. Например, при работе с моделями машинного обучения может потребоваться визуализировать поверхность, описываемую функцией ошибок, чтобы оценить вероятность попадания в локальный минимум в процессе обучения. Пока что ни одна из пройденных нами функций не позволяет строить визуализация подобного плана. Более того, в некоторых ситуациях может быть недостаточно статичной картинки и требуется анимация. Именно подобные виды визуализаций мы и разберем в рамках сегодняшнего занятия.\n",
    "\n",
    "**Необходимые импорты:**"
   ]
  },
  {
   "cell_type": "code",
   "execution_count": null,
   "metadata": {},
   "outputs": [],
   "source": [
    "from functools import partial\n",
    "\n",
    "import matplotlib.pyplot as plt\n",
    "import numpy as np\n",
    "\n",
    "from IPython.display import HTML\n",
    "from matplotlib.animation import FuncAnimation"
   ]
  },
  {
   "cell_type": "markdown",
   "metadata": {},
   "source": [
    "**Подготовительные шаги:**"
   ]
  },
  {
   "cell_type": "code",
   "execution_count": null,
   "metadata": {},
   "outputs": [],
   "source": [
    "plt.style.use(\"ggplot\")"
   ]
  },
  {
   "cell_type": "markdown",
   "metadata": {},
   "source": [
    "## Двумерные графики трехмерных функций\n",
    "\n",
    "Прежде чем переходить к построениею полноценных трехмерных графиков, рассмотрим возможности визуализации трехмерных функций в виде двумерных графиков. Во всех следующих примерах будем визуализировать следующую функцию:\n",
    "$$f(x, y) = sin(x)^2 + cos(xy)cos(x), x \\in [0, 5], y \\in [0, 4]$$"
   ]
  },
  {
   "cell_type": "code",
   "execution_count": null,
   "metadata": {},
   "outputs": [],
   "source": [
    "limits_abscissa = [0, 5]\n",
    "limits_ordinate = [0, 4]\n",
    "\n",
    "abscissa = np.linspace(*limits_abscissa, 500)\n",
    "ordinates = np.linspace(*limits_ordinate, 400)\n",
    "\n",
    "grid_x, grid_y = np.meshgrid(abscissa, ordinates)\n",
    "print(\n",
    "    f\"grid_x:\\n{grid_x};\",\n",
    "    f\"gtid_y:\\n{grid_y};\",\n",
    "    sep=\"\\n\\n\",\n",
    ")\n",
    "\n",
    "grid_z = (\n",
    "    np.sin(grid_x) ** 2 + np.cos(grid_x * grid_y) * np.cos(grid_x)\n",
    ")"
   ]
  },
  {
   "cell_type": "markdown",
   "metadata": {},
   "source": [
    "### contour\n",
    "\n",
    "Одним из простейших способов визуализации трехмерной функции с помощью двумерного графика - построение линий уровня этой функции. Т.е. мы можем представить трехмерную функцию, как функцию двух переменных, выразив через них значения третьей координаты. После этого мы можем визуализировать на плоскости линии, вдоль которых значения этой функции двух переменных не изменяются.\n",
    "\n",
    "В Matplotlib построение линий уровня функции двух переменных возможно с помощью функции `contour`. В качестве обязательных аргументов функция принимает значения абсцисс, ординат и аппликат. Построение линей уровня с помощью `contour` в простейшем виде выглядит так:"
   ]
  },
  {
   "cell_type": "code",
   "execution_count": null,
   "metadata": {},
   "outputs": [],
   "source": [
    "_, axis = plt.subplots(figsize=(10, 8))\n",
    "axis: plt.Axes\n",
    "\n",
    "axis.contour(grid_x, grid_y, grid_z, colors=\"k\");"
   ]
  },
  {
   "cell_type": "markdown",
   "metadata": {},
   "source": [
    "По умолчанию Matplotlib сам выбирает оптимальное число уровней, а также значения этих уровней, на основе области значений аппликаты. Также обратим внимание на стили линий. На данном графике есть сплошные и пунктирные линии. С помощью разных стилей линий Matplotlib добавляет глубины в нашу визуализацию: сплошные линии соответствуют положительным значениям аппликаты, пунктирные - отрицательным.\n",
    "\n",
    "В случае, если нас не устраивает выбор линий уровня, мы можем настроить множество отображаемых линий вручную. Для этого необходимо воспользоваться аргументом `levels`. В качестве значения может быть передано целое положительное число $N$, в этом случае Matplotlib отберет $N + 1$ линию в диапазоне между минимальным и максимальным числом аппликаты, включительно. Также можно явно передать список значений линий уровня, которые необходимо отобразить.\n",
    "\n",
    "Помимо настойки числа линий уровня, мы можем также изменить подход к отрисовке линий уровня, соответствующих различным значениям. Для этого можно воспользоваться так называемой \"цветовой картой\" (*color map*), которая позволяет автоматически связать определенный цвет со значением линии уровня. Цветоая карта задается с помощью аргумента `cmap`. Ознакомиться с возможными цветовыми картами можно [тут](https://matplotlib.org/stable/users/explain/colors/colormaps.html)."
   ]
  },
  {
   "cell_type": "code",
   "execution_count": null,
   "metadata": {},
   "outputs": [],
   "source": [
    "_, axis = plt.subplots(figsize=(10, 8))\n",
    "axis: plt.Axes\n",
    "\n",
    "axis.contour(\n",
    "    grid_x,\n",
    "    grid_y,\n",
    "    grid_z,\n",
    "    levels=40,\n",
    "    cmap=\"seismic\",\n",
    ");"
   ]
  },
  {
   "cell_type": "markdown",
   "metadata": {},
   "source": [
    "### contourf\n",
    "\n",
    "Из-за увеличения числа линий уровня визуализация может выглядеть неаккуратно и сильно напрягать зрение человека, изучающего ее. Для того, чтобы сделать визуализацию \"плавнее\", можно воспользоваться функций `contourf`. Функция `contourf` является близнецом функции `contour`, поскольку обладает тем же набором аргументов. Единственное отличие между этими функциями состоит в том, что `contourf` заполняет одним цветом пространство между двумя соседними линиями уровня, из-за чего итоговая визуализация кажется \"плавнее\"."
   ]
  },
  {
   "cell_type": "code",
   "execution_count": null,
   "metadata": {},
   "outputs": [],
   "source": [
    "figure, axis = plt.subplots(figsize=(10, 8))\n",
    "axis: plt.Axes\n",
    "\n",
    "contours = axis.contourf(\n",
    "    grid_x,\n",
    "    grid_y,\n",
    "    grid_z,\n",
    "    levels=40,\n",
    "    cmap=\"seismic\",\n",
    ")\n",
    "figure.colorbar(contours, ax=axis);"
   ]
  },
  {
   "cell_type": "markdown",
   "metadata": {},
   "source": [
    "Однако данный график по-прежнему дискретен. Мы явно видим переходы между линиями уровня. Решить эту проблему можно было бы, увеличивая число отображаемых линий уровня. Однако данный подход сопряжен с резким снижением производительности: чем больше линий уровня мы запрашиваем, тем больше полигонов вынужден рисовать Matplotlib, что значительно увеличивает общее время отрисовки изображения и снижает производительность вашей программы."
   ]
  },
  {
   "cell_type": "markdown",
   "metadata": {},
   "source": [
    "### imshow\n",
    "\n",
    "В случае, если мы хотим отобразить переходы между линиями уровня максимально плавно, можно воспользоваться функций `imshow`. `imshow` предназначена для отображения изображений, что отражено в ее названии, однако она также подходит для построения двумерных визуализаций трехмерных функций."
   ]
  },
  {
   "cell_type": "code",
   "execution_count": null,
   "metadata": {},
   "outputs": [],
   "source": [
    "figure, axis = plt.subplots(figsize=(10, 8))\n",
    "axis: plt.Axes\n",
    "\n",
    "image = axis.imshow(\n",
    "    grid_z,\n",
    "    extent=limits_abscissa + limits_ordinate,\n",
    "    origin=\"lower\",\n",
    "    cmap=\"seismic\",\n",
    ")\n",
    "axis.axis(\"image\")\n",
    "axis.grid(False)\n",
    "figure.colorbar(image, ax=axis);"
   ]
  },
  {
   "cell_type": "markdown",
   "metadata": {},
   "source": [
    "Для того, чтобы результат выполнения `imshow` был похож на результат построения функции, а не на результат визуализации изображения, нам пришлось сделать дополнительные шаги. Первое, что пришлось сделать - настроить ограничения значений вдоль координатных осей с помощью параметра `extent`. В ином случае в качестве ограничений использовались бы размеры переданного массива. Второе, что пришлось сделать - переместить точку начала отсчет в левый нижний угол с помощью параметры `origin`. По умолчанию начало отсчета для изображений располагается в левом верхнем углу."
   ]
  },
  {
   "cell_type": "markdown",
   "metadata": {},
   "source": [
    "### contour + imshow\n",
    "\n",
    "Разумеется, для увеличения выразительности ваших визуализаций, вы можете комбинировать различные подходы. Например, ниже приведен код, который позволяет нарисовать линии уровня поверх изображения."
   ]
  },
  {
   "cell_type": "code",
   "execution_count": null,
   "metadata": {},
   "outputs": [],
   "source": [
    "figure, axis = plt.subplots(figsize=(10, 8))\n",
    "axis: plt.Axes\n",
    "\n",
    "contours = axis.contour(\n",
    "    grid_x,\n",
    "    grid_y,\n",
    "    grid_z,\n",
    "    levels=3,\n",
    "    colors=\"k\",\n",
    ")\n",
    "axis.clabel(contours, inline=True, fontsize=8)\n",
    "\n",
    "image = axis.imshow(\n",
    "    grid_z,\n",
    "    extent=limits_abscissa + limits_ordinate,\n",
    "    origin=\"lower\",\n",
    "    cmap=\"seismic\",\n",
    "    alpha=0.8,\n",
    ")\n",
    "axis.grid(False)\n",
    "figure.colorbar(image, ax=axis);"
   ]
  },
  {
   "cell_type": "markdown",
   "metadata": {},
   "source": [
    "## Трехмерные графики\n",
    "\n",
    "Теперь рассмотрим построение трехмерных графиков в Matplotlib. Для построения трехмерных графиков используются аналоги уже пройденных функций с суффиксом `3D`.\n",
    "\n",
    "### plot3D\n",
    "\n",
    "Для построения линейных графиков используется аналог функции `plot` - `plot3D`."
   ]
  },
  {
   "cell_type": "code",
   "execution_count": null,
   "metadata": {},
   "outputs": [],
   "source": [
    "times = np.linspace(0, 15, 1000)\n",
    "\n",
    "abscissa = times * np.cos(times)\n",
    "ordinates = times * np.sin(times)\n",
    "applicates = times"
   ]
  },
  {
   "cell_type": "code",
   "execution_count": null,
   "metadata": {},
   "outputs": [],
   "source": [
    "figure = plt.figure(figsize=(9, 9))\n",
    "axis: plt.Axes = figure.add_subplot(projection=\"3d\")\n",
    "\n",
    "axis.plot3D(\n",
    "    abscissa,\n",
    "    ordinates,\n",
    "    applicates,\n",
    "    c=\"royalblue\",\n",
    ");"
   ]
  },
  {
   "cell_type": "markdown",
   "metadata": {},
   "source": [
    "Обратите внимание, что при работе с 3D-визуализациями для создания фигуры и координатных осей мы не используем функцию `subplots`. Вместо этого мы создаем фигуру c помощью функции `figure`, а координатные оси создаем с помощью метода фигуры `add_subplot`. При это во время вызова метода мы явно задаем \"проекцию\" оси, давая понять Matplotlib, что данные координатные оси должны поддерживать 3D-визуализацию. "
   ]
  },
  {
   "cell_type": "markdown",
   "metadata": {},
   "source": [
    "### scatter3D\n",
    "\n",
    "Для построения диаграмм рассеяния используется аналог функции `scatter` - `scatter3D`. Обратите внимание, что при отрисовки диаграммы рассеяния в трехмерном пространстве, Matplotlib автоматически делает некоторые точки полупрозрачными, чтобы добавить глубины визуализации."
   ]
  },
  {
   "cell_type": "code",
   "execution_count": null,
   "metadata": {},
   "outputs": [],
   "source": [
    "abscissa, ordinates, applicates = np.random.multivariate_normal(\n",
    "    mean=[0, 0, 0],\n",
    "    cov=np.diag([1, 2, 3]),\n",
    "    size=1000,\n",
    ").T"
   ]
  },
  {
   "cell_type": "code",
   "execution_count": null,
   "metadata": {},
   "outputs": [],
   "source": [
    "figure = plt.figure(figsize=(9, 9))\n",
    "axis: plt.Axes = figure.add_subplot(projection=\"3d\")\n",
    "\n",
    "axis.scatter3D(\n",
    "    abscissa,\n",
    "    ordinates,\n",
    "    applicates,\n",
    "    c=\"royalblue\",\n",
    ");"
   ]
  },
  {
   "cell_type": "markdown",
   "metadata": {},
   "source": [
    "### contour3D\n",
    "\n",
    "`contour3D` - трехмерный аналог функции `contour`, пройденной в данном семинаре."
   ]
  },
  {
   "cell_type": "code",
   "execution_count": null,
   "metadata": {},
   "outputs": [],
   "source": [
    "axis_limits = [-6, 6]\n",
    "report_amount = 500\n",
    "\n",
    "abscissa = np.linspace(*axis_limits, report_amount)\n",
    "ordinates = np.linspace(*axis_limits, report_amount)\n",
    "\n",
    "grid_x, grid_y = np.meshgrid(abscissa, ordinates)\n",
    "grid_z = np.sin((grid_x ** 2 + grid_y ** 2) ** 0.5)"
   ]
  },
  {
   "cell_type": "code",
   "execution_count": null,
   "metadata": {},
   "outputs": [],
   "source": [
    "figure = plt.figure(figsize=(9, 9))\n",
    "axis: plt.Axes = figure.add_subplot(projection=\"3d\")\n",
    "\n",
    "axis.contour3D(\n",
    "    grid_x,\n",
    "    grid_y,\n",
    "    grid_z,\n",
    "    levels=50,\n",
    "    cmap=\"cool\",\n",
    ")\n",
    "axis.set_xlabel(\"X\", fontsize=10)\n",
    "axis.set_ylabel(\"Y\", fontsize=10)\n",
    "axis.set_zlabel(\"Z\", fontsize=10);"
   ]
  },
  {
   "cell_type": "markdown",
   "metadata": {},
   "source": [
    "Как вы видели во всех предыдущих примерах, Matplotlib отображает 3D-графики под одним и тем же углом обзора. Данный угол обзора не всегда является оптимальным. В некоторых ситуациях отображаемые объекты обладают сложной конфигурацией, для понимания которой требуется изменение угла обзора. Чтобы это осуществить, можно воспользоваться функцией `view_init`. В качестве аргументов функция принимает значение угла места и значение угла азимута."
   ]
  },
  {
   "cell_type": "code",
   "execution_count": null,
   "metadata": {},
   "outputs": [],
   "source": [
    "figure = plt.figure(figsize=(9, 9))\n",
    "axis: plt.Axes = figure.add_subplot(projection=\"3d\")\n",
    "\n",
    "axis.view_init(45, 45)\n",
    "axis.contour3D(\n",
    "    grid_x,\n",
    "    grid_y,\n",
    "    grid_z,\n",
    "    levels=50,\n",
    "    cmap=\"cool\",\n",
    ")\n",
    "axis.set_xlabel(\"X\", fontsize=10)\n",
    "axis.set_ylabel(\"Y\", fontsize=10)\n",
    "axis.set_zlabel(\"Z\", fontsize=10);"
   ]
  },
  {
   "cell_type": "markdown",
   "metadata": {},
   "source": [
    "### Каркасы\n",
    "\n",
    "Позволяет изобразить поверхность в виде координатной сетки."
   ]
  },
  {
   "cell_type": "code",
   "execution_count": null,
   "metadata": {},
   "outputs": [],
   "source": [
    "figure = plt.figure(figsize=(9, 9))\n",
    "axis: plt.Axes = figure.add_subplot(projection=\"3d\")\n",
    "\n",
    "axis.view_init(60, 45)\n",
    "axis.plot_wireframe(\n",
    "    grid_x,\n",
    "    grid_y,\n",
    "    grid_z,\n",
    "    color=\"royalblue\",\n",
    ");"
   ]
  },
  {
   "cell_type": "markdown",
   "metadata": {},
   "source": [
    "### Поверхности\n",
    "\n",
    "Отображает поверхность, заданную данными точками."
   ]
  },
  {
   "cell_type": "code",
   "execution_count": null,
   "metadata": {},
   "outputs": [],
   "source": [
    "figure = plt.figure(figsize=(9, 9))\n",
    "axis: plt.Axes = figure.add_subplot(projection=\"3d\")\n",
    "\n",
    "axis.plot_surface(\n",
    "    grid_x,\n",
    "    grid_y,\n",
    "    grid_z,\n",
    "    cmap=\"cool\",\n",
    ");"
   ]
  },
  {
   "cell_type": "markdown",
   "metadata": {},
   "source": [
    "## Анимации\n",
    "\n",
    "Один из основных способов создания анимации в Matplotlib - объект `FuncAnimation`. `FuncAnimation` — это класс, который позволяет создавать анимации, обновляя график кадр за кадром. \n",
    "\n",
    "Для того, чтобы создать анимацию с помощью `FuncAnimation`, необходимо определить функцию, которая будет вызываться для каждого кадра и обновлять данные этого кадра. Функция обновления кадра должна обладать следующей сигнатурой:  \n",
    "`Callable[[int], Iterable[matplotlib.artists.Artist]]`\n",
    "\n",
    "Т.е. на вход функции подается один единственный аргумент - целое число, которое определяет номер кадра. Результатом функции является итерируемый объект, элементы которого - объект, которые необходимо обновить и отрисовать в рамках данного кадра."
   ]
  },
  {
   "cell_type": "code",
   "execution_count": null,
   "metadata": {},
   "outputs": [],
   "source": [
    "abscissa = np.linspace(0, 4 * np.pi, 1000)"
   ]
  },
  {
   "cell_type": "code",
   "execution_count": null,
   "metadata": {},
   "outputs": [],
   "source": [
    "def update_frame(\n",
    "    frame_id: int,\n",
    "    *,\n",
    "    line: plt.Line2D,\n",
    "    abscissa: np.ndarray,\n",
    ") -> tuple[plt.Line2D]:\n",
    "    ordinates = np.sin(abscissa + frame_id * 0.1)\n",
    "    line.set_ydata(ordinates)\n",
    "\n",
    "    return line,"
   ]
  },
  {
   "cell_type": "code",
   "execution_count": null,
   "metadata": {},
   "outputs": [],
   "source": [
    "figure, axis = plt.subplots(figsize=(16, 9))\n",
    "axis: plt.Axes\n",
    "\n",
    "axis.set_xlim(abscissa.min(), abscissa.max())\n",
    "line, *_ = axis.plot(\n",
    "    abscissa,\n",
    "    np.sin(abscissa),\n",
    "    c=\"royalblue\",\n",
    ")\n",
    "\n",
    "animation = FuncAnimation(\n",
    "    figure,\n",
    "    partial(update_frame, line=line, abscissa=abscissa),\n",
    "    frames=100,\n",
    "    interval=50,\n",
    "    blit=True,\n",
    ")\n",
    "HTML(animation.to_jshtml())"
   ]
  },
  {
   "cell_type": "markdown",
   "metadata": {},
   "source": [
    "Помимо функции обновления кадров во время создания экземпляра `FuncAnimation` в `__init__` необходимо передать объект `plt.Figure`, на котором будет отрисована анимация. Также `FuncAnimation` обладает внушительным списком дополнительных настроек, с которыми вы можете ознакомиться в официальной [документации](https://matplotlib.org/stable/api/_as_gen/matplotlib.animation.FuncAnimation.html). Ниже перечислены настройки, использованные в данном примере:\n",
    "- `frames` - значения, которые будут переданы в функцию обновления кадра в качестве аргумента. Значение этого аргумента может быть задано или итерируемым объектов, который будет использован для получения номеров кадров, или числом, в таком случае это будет эквивалентно передачи `range(frames)`. По умолчанию значение аргумента равно `None`, что эквивалентно `itertools.count`.\n",
    "- `interval` - интервал обновления кадра в мс.\n",
    "- `blit` - стоит ли применять оптимизацию при отрисовки кадров.\n",
    "\n",
    "Объект типа `HTML` был использован для того, чтобы иметь возможность взаимодействовать с анимацией в рамках Jupyter Notebook. Однако, анимации далеко не всегда создаются в Jupyter Notebook. Часто анимации приходится создавать в Python скрипте и затем сохранять в память компьютера, чтобы иметь возможность использовать ее без повторного запуска скрипта. Чтобы сохранить анимацию в файл (например, в формате `.gif` или `.mp4`), используется метод `.save()` объекта `FuncAnimation`. Для этого нужно указать имя файла и кодек (если сохраняем видео). Также может потребоваться установка дополнительных библиотек, таких как `ffmpeg` или `pillow`. Для запуска следующего примера потребуется библиотека `pillow`."
   ]
  },
  {
   "cell_type": "code",
   "execution_count": null,
   "metadata": {},
   "outputs": [],
   "source": [
    "animation.save(\"sin.gif\", writer=\"pillow\", fps=24)"
   ]
  },
  {
   "cell_type": "markdown",
   "metadata": {},
   "source": [
    "## Практика 1. Сферические волны\n",
    "\n",
    "С помощью средств Matplotlib создайте анимацию распространения сферической волны.\n",
    "\n",
    "![waves](./gifs/waves.gif)"
   ]
  },
  {
   "cell_type": "markdown",
   "metadata": {},
   "source": []
  }
 ],
 "metadata": {
  "kernelspec": {
   "display_name": "venv",
   "language": "python",
   "name": "python3"
  },
  "language_info": {
   "codemirror_mode": {
    "name": "ipython",
    "version": 3
   },
   "file_extension": ".py",
   "mimetype": "text/x-python",
   "name": "python",
   "nbconvert_exporter": "python",
   "pygments_lexer": "ipython3",
   "version": "3.11.1"
  }
 },
 "nbformat": 4,
 "nbformat_minor": 2
}
