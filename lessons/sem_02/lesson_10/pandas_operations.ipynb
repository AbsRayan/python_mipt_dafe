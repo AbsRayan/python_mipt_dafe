{
 "cells": [
  {
   "cell_type": "markdown",
   "id": "2b3e1847",
   "metadata": {},
   "source": [
    "# Операции над объектами Pandas\n",
    "\n",
    "На прошлом занятии мы начали изучать библиотеку Pandas и познакомились с ее основными структурами данных: `Index`, `Series` и `DataFrame`. Очевидно, что работа с данными не ограничивается исключительно их хранением и чтением, а зачастую включается в себя применение специальных операций и функций: логических, арифметических, математических, статистических и т.д. в зависимости от задачи. Сегодня мы с вами познакомимся с функциями и методами объектов Pandas, которые позволяют эффективно обрабатывать большие объемы различных данных.\n",
    "\n",
    "**Необходимые импорты**:"
   ]
  },
  {
   "cell_type": "code",
   "execution_count": 1,
   "id": "b3623c1a",
   "metadata": {},
   "outputs": [],
   "source": [
    "import timeit\n",
    "\n",
    "import numpy as np\n",
    "import pandas as pd\n",
    "import seaborn as sns"
   ]
  },
  {
   "cell_type": "markdown",
   "id": "8e2625f8",
   "metadata": {},
   "source": [
    "## Векторизованные операции в стиле NumPy\n",
    "\n",
    "Pandas во многом построена на массивах NumPy, а потому значительная часть векторизованных операций из NumPy может быть использована вместе с объектами `pd.Series` и `pd.DataFrame`. Однако, при использовании этих операций с объектами `Pandas` существуют свои тонкости. Рассмотрим эти тонкости детальнее.\n",
    "\n",
    "### Сохранение индексов\n",
    "\n",
    "Объекты `pd.Series` и `pd.DataFrame` - это не просто одномерные и двумерные массивы данных. Это структуры данных с явными типизированными индексами. Этот факт учитывается во время выполнения различных операций над объектами `pd.Series` и `pd.DataFrame`.  Так при выполнении унарных операций или при применении к этим объектам арифметических функций, Pandas будет использовать индексы исходного объекта в качестве индексов результата выполнения вычислений. Благодаря этому подходу разработчики получают легкий способ обновлять столбцы датафреймов, используя результаты выполнения различных операций.\n",
    "\n",
    "Рассмотрим примеры сохранения индексов во время выполнения различных вычислений. "
   ]
  },
  {
   "cell_type": "code",
   "execution_count": 2,
   "id": "1fbd7b3e",
   "metadata": {},
   "outputs": [
    {
     "name": "stdout",
     "output_type": "stream",
     "text": [
      "Original series:\n",
      "A   -2.355782\n",
      "B    1.012241\n",
      "C   -0.773031\n",
      "D    0.172977\n",
      "E   -1.171881\n",
      "dtype: float64\n",
      "\n",
      "Series exp:\n",
      "A    0.094819\n",
      "B    2.751761\n",
      "C    0.461612\n",
      "D    1.188838\n",
      "E    0.309784\n",
      "dtype: float64\n"
     ]
    }
   ],
   "source": [
    "series = pd.Series(\n",
    "    data=np.random.normal(size=5),\n",
    "    index=list(\"ABCDE\"),\n",
    ")\n",
    "series_exp = np.exp(series)\n",
    "\n",
    "print(\n",
    "    f\"Original series:\\n{series}\",\n",
    "    f\"Series exp:\\n{series_exp}\",\n",
    "    sep=\"\\n\\n\",\n",
    ")"
   ]
  },
  {
   "cell_type": "markdown",
   "id": "49b03bd3",
   "metadata": {},
   "source": [
    "Аналогичным образом сохранение индексов строк и индексов столбцов выполняется и для `pd.DataFrame`."
   ]
  },
  {
   "cell_type": "code",
   "execution_count": 3,
   "id": "0abe6916",
   "metadata": {},
   "outputs": [
    {
     "data": {
      "text/html": [
       "<div>\n",
       "<style scoped>\n",
       "    .dataframe tbody tr th:only-of-type {\n",
       "        vertical-align: middle;\n",
       "    }\n",
       "\n",
       "    .dataframe tbody tr th {\n",
       "        vertical-align: top;\n",
       "    }\n",
       "\n",
       "    .dataframe thead th {\n",
       "        text-align: right;\n",
       "    }\n",
       "</style>\n",
       "<table border=\"1\" class=\"dataframe\">\n",
       "  <thead>\n",
       "    <tr style=\"text-align: right;\">\n",
       "      <th></th>\n",
       "      <th>col_1</th>\n",
       "      <th>col_2</th>\n",
       "      <th>col_3</th>\n",
       "      <th>col_4</th>\n",
       "    </tr>\n",
       "  </thead>\n",
       "  <tbody>\n",
       "    <tr>\n",
       "      <th>row_1</th>\n",
       "      <td>-1.305601</td>\n",
       "      <td>0.388970</td>\n",
       "      <td>2.602478</td>\n",
       "      <td>0.020712</td>\n",
       "    </tr>\n",
       "    <tr>\n",
       "      <th>row_2</th>\n",
       "      <td>0.492070</td>\n",
       "      <td>0.159998</td>\n",
       "      <td>-0.089816</td>\n",
       "      <td>-1.055919</td>\n",
       "    </tr>\n",
       "    <tr>\n",
       "      <th>row_3</th>\n",
       "      <td>-1.167202</td>\n",
       "      <td>1.902886</td>\n",
       "      <td>-1.516229</td>\n",
       "      <td>-0.390223</td>\n",
       "    </tr>\n",
       "  </tbody>\n",
       "</table>\n",
       "</div>"
      ],
      "text/plain": [
       "          col_1     col_2     col_3     col_4\n",
       "row_1 -1.305601  0.388970  2.602478  0.020712\n",
       "row_2  0.492070  0.159998 -0.089816 -1.055919\n",
       "row_3 -1.167202  1.902886 -1.516229 -0.390223"
      ]
     },
     "execution_count": 3,
     "metadata": {},
     "output_type": "execute_result"
    }
   ],
   "source": [
    "row_amount, col_amount = 3, 4\n",
    "\n",
    "data_frame = pd.DataFrame(\n",
    "    data=np.random.normal(size=(row_amount, col_amount)),\n",
    "    index=[f\"row_{i + 1}\" for i in range(row_amount)],\n",
    "    columns=[f\"col_{i + 1}\" for i in range(col_amount)],\n",
    ")\n",
    "data_frame"
   ]
  },
  {
   "cell_type": "code",
   "execution_count": 4,
   "id": "d98156d3",
   "metadata": {},
   "outputs": [
    {
     "data": {
      "text/html": [
       "<div>\n",
       "<style scoped>\n",
       "    .dataframe tbody tr th:only-of-type {\n",
       "        vertical-align: middle;\n",
       "    }\n",
       "\n",
       "    .dataframe tbody tr th {\n",
       "        vertical-align: top;\n",
       "    }\n",
       "\n",
       "    .dataframe thead th {\n",
       "        text-align: right;\n",
       "    }\n",
       "</style>\n",
       "<table border=\"1\" class=\"dataframe\">\n",
       "  <thead>\n",
       "    <tr style=\"text-align: right;\">\n",
       "      <th></th>\n",
       "      <th>col_1</th>\n",
       "      <th>col_2</th>\n",
       "      <th>col_3</th>\n",
       "      <th>col_4</th>\n",
       "    </tr>\n",
       "  </thead>\n",
       "  <tbody>\n",
       "    <tr>\n",
       "      <th>row_1</th>\n",
       "      <td>0.819234</td>\n",
       "      <td>0.939780</td>\n",
       "      <td>0.948622</td>\n",
       "      <td>0.065024</td>\n",
       "    </tr>\n",
       "    <tr>\n",
       "      <th>row_2</th>\n",
       "      <td>0.999690</td>\n",
       "      <td>0.481749</td>\n",
       "      <td>-0.278435</td>\n",
       "      <td>0.174774</td>\n",
       "    </tr>\n",
       "    <tr>\n",
       "      <th>row_3</th>\n",
       "      <td>0.501457</td>\n",
       "      <td>-0.300382</td>\n",
       "      <td>0.998700</td>\n",
       "      <td>-0.941118</td>\n",
       "    </tr>\n",
       "  </tbody>\n",
       "</table>\n",
       "</div>"
      ],
      "text/plain": [
       "          col_1     col_2     col_3     col_4\n",
       "row_1  0.819234  0.939780  0.948622  0.065024\n",
       "row_2  0.999690  0.481749 -0.278435  0.174774\n",
       "row_3  0.501457 -0.300382  0.998700 -0.941118"
      ]
     },
     "execution_count": 4,
     "metadata": {},
     "output_type": "execute_result"
    }
   ],
   "source": [
    "np.sin(data_frame * np.pi)"
   ]
  },
  {
   "cell_type": "markdown",
   "id": "0c763ec3",
   "metadata": {},
   "source": [
    "### Выравнивание индексов\n",
    "\n",
    "Вторая, более важная особенность выполнения операций с объектами Pandas, заключается в выравнивании индексов. Из NumPy мы знаем, что при попытке выполнениях бинарных операций с одномерными массивами `np.ndarray`, мы получим ошибку. Поскольку массивы NumPy лежат в основе библиотеки Pandas, может создастся впечатление, что похожее поведение должно быть справедливо и для объектов `pd.Series` с разными индексами. Ведь `pd.Series` - это аналог одномерного массива `np.ndarray` с явно заданным индексом, а отличия в количестве элементов массивов `np.ndarray` аналогично отличиям в индексах объектов `pd.Series`.  Однако это ложное предположение. В Pandas возможно выполнение бинарных операций над объектами `pd.Series` с разными индексами. Более того, в результате этих операций получаются вполне предсказуемые и логичные результаты. Рассмотрим пример."
   ]
  },
  {
   "cell_type": "code",
   "execution_count": 5,
   "id": "8a9e128b",
   "metadata": {},
   "outputs": [
    {
     "name": "stdout",
     "output_type": "stream",
     "text": [
      "Population density:\n",
      "Ekaterinburg        1384.326439\n",
      "Kazan                       NaN\n",
      "Moscow              5236.878933\n",
      "Novosibirsk                 NaN\n",
      "Saint Petersburg            NaN\n",
      "dtype: float64\n"
     ]
    }
   ],
   "source": [
    "populations = pd.Series(\n",
    "    {\n",
    "        \"Moscow\": 13149803,\n",
    "        \"Saint Petersburg\": 5600044,\n",
    "        \"Novosibirsk\": 1635338,\n",
    "        \"Ekaterinburg\": 1539371,\n",
    "    },\n",
    ")\n",
    "areas = pd.Series(\n",
    "    {\n",
    "        \"Kazan\": 515.8,\n",
    "        \"Ekaterinburg\": 1112,\n",
    "        \"Moscow\": 2511,\n",
    "    },\n",
    ")\n",
    "population_density = populations / areas\n",
    "\n",
    "print(f\"Population density:\\n{population_density}\")"
   ]
  },
  {
   "cell_type": "markdown",
   "id": "5f383a12",
   "metadata": {},
   "source": [
    "В данном примере мы определили `pd.Series` `populations`, в котором отражены численности населения российских городов. Также мы определили `pd.Series` `areas`, в котором отражены площади российских городов. Индексы определенных серий разные. Они имеют пересечения в виде ключей `\"Ekaterinburg\"` и `\"Moscow\"`, однако остальные ключи отличаются. Далее выполняется операция бинарного деления, чтобы определить плотность населения в российских городах. В результате выполнения мы получили объект `pd.Series`, в котором плотность населения определена только для тех значений индекса, которые присутствовали и в первой, и во второй серии. Остальным же значениям индекса соответствует странное значение `NaN`, о котором мы поговорим ниже. Однако, факт остается фактом - мы можем выполнять бинарные операции с объектами, обладающими разными индексами.\n",
    "\n",
    "Рассмотрим детальнее результат выполнения такой операции. Во-первых, видно что индекс результирующей серии является объединением значений индексов операндов:"
   ]
  },
  {
   "cell_type": "code",
   "execution_count": 6,
   "id": "c4762baa",
   "metadata": {},
   "outputs": [
    {
     "name": "stdout",
     "output_type": "stream",
     "text": [
      "is index was united: True\n"
     ]
    }
   ],
   "source": [
    "is_index_united = np.all(\n",
    "    population_density.index == populations.index.union(areas.index)\n",
    ")\n",
    "\n",
    "print(f\"is index was united: {is_index_united}\")"
   ]
  },
  {
   "cell_type": "markdown",
   "id": "538af6b5",
   "metadata": {},
   "source": [
    "Во-вторых, значения индекса результата выполнения операции отсортированы в порядке возрастания. Поскольку в данном примере в качестве значений индекса были использованы названия городов, значения результирующего индекса отсортированы в алфавитном порядке:"
   ]
  },
  {
   "cell_type": "code",
   "execution_count": 7,
   "id": "5cd5215d",
   "metadata": {},
   "outputs": [
    {
     "data": {
      "text/plain": [
       "Index(['Ekaterinburg', 'Kazan', 'Moscow', 'Novosibirsk', 'Saint Petersburg'], dtype='object')"
      ]
     },
     "execution_count": 7,
     "metadata": {},
     "output_type": "execute_result"
    }
   ],
   "source": [
    "population_density.index"
   ]
  },
  {
   "cell_type": "markdown",
   "id": "332cfbb6",
   "metadata": {},
   "source": [
    "Аналогичные результаты будут справедливы и для объектов `pd.DataFrame`. Единственное отличие будет заключать в выравнивании индексов по двум измерениям."
   ]
  },
  {
   "cell_type": "code",
   "execution_count": 8,
   "id": "78fc40e5",
   "metadata": {},
   "outputs": [
    {
     "data": {
      "text/html": [
       "<div>\n",
       "<style scoped>\n",
       "    .dataframe tbody tr th:only-of-type {\n",
       "        vertical-align: middle;\n",
       "    }\n",
       "\n",
       "    .dataframe tbody tr th {\n",
       "        vertical-align: top;\n",
       "    }\n",
       "\n",
       "    .dataframe thead th {\n",
       "        text-align: right;\n",
       "    }\n",
       "</style>\n",
       "<table border=\"1\" class=\"dataframe\">\n",
       "  <thead>\n",
       "    <tr style=\"text-align: right;\">\n",
       "      <th></th>\n",
       "      <th>A</th>\n",
       "      <th>B</th>\n",
       "    </tr>\n",
       "  </thead>\n",
       "  <tbody>\n",
       "    <tr>\n",
       "      <th>0</th>\n",
       "      <td>7</td>\n",
       "      <td>14</td>\n",
       "    </tr>\n",
       "    <tr>\n",
       "      <th>1</th>\n",
       "      <td>12</td>\n",
       "      <td>2</td>\n",
       "    </tr>\n",
       "  </tbody>\n",
       "</table>\n",
       "</div>"
      ],
      "text/plain": [
       "    A   B\n",
       "0   7  14\n",
       "1  12   2"
      ]
     },
     "execution_count": 8,
     "metadata": {},
     "output_type": "execute_result"
    }
   ],
   "source": [
    "data_frame1 = pd.DataFrame(\n",
    "    data=np.random.randint(0, 20, size=(2, 2)),\n",
    "    columns=list(\"AB\"),\n",
    ")\n",
    "data_frame1"
   ]
  },
  {
   "cell_type": "code",
   "execution_count": 9,
   "id": "cc8544b7",
   "metadata": {},
   "outputs": [
    {
     "data": {
      "text/html": [
       "<div>\n",
       "<style scoped>\n",
       "    .dataframe tbody tr th:only-of-type {\n",
       "        vertical-align: middle;\n",
       "    }\n",
       "\n",
       "    .dataframe tbody tr th {\n",
       "        vertical-align: top;\n",
       "    }\n",
       "\n",
       "    .dataframe thead th {\n",
       "        text-align: right;\n",
       "    }\n",
       "</style>\n",
       "<table border=\"1\" class=\"dataframe\">\n",
       "  <thead>\n",
       "    <tr style=\"text-align: right;\">\n",
       "      <th></th>\n",
       "      <th>B</th>\n",
       "      <th>A</th>\n",
       "      <th>C</th>\n",
       "    </tr>\n",
       "  </thead>\n",
       "  <tbody>\n",
       "    <tr>\n",
       "      <th>0</th>\n",
       "      <td>7</td>\n",
       "      <td>8</td>\n",
       "      <td>0</td>\n",
       "    </tr>\n",
       "    <tr>\n",
       "      <th>1</th>\n",
       "      <td>3</td>\n",
       "      <td>0</td>\n",
       "      <td>3</td>\n",
       "    </tr>\n",
       "    <tr>\n",
       "      <th>2</th>\n",
       "      <td>5</td>\n",
       "      <td>7</td>\n",
       "      <td>9</td>\n",
       "    </tr>\n",
       "  </tbody>\n",
       "</table>\n",
       "</div>"
      ],
      "text/plain": [
       "   B  A  C\n",
       "0  7  8  0\n",
       "1  3  0  3\n",
       "2  5  7  9"
      ]
     },
     "execution_count": 9,
     "metadata": {},
     "output_type": "execute_result"
    }
   ],
   "source": [
    "data_frame2 = pd.DataFrame(\n",
    "    data=np.random.randint(0, 10, size=(3, 3)),\n",
    "    columns=list(\"BAC\"),\n",
    ")\n",
    "data_frame2"
   ]
  },
  {
   "cell_type": "code",
   "execution_count": 10,
   "id": "5548e4cd",
   "metadata": {},
   "outputs": [
    {
     "data": {
      "text/html": [
       "<div>\n",
       "<style scoped>\n",
       "    .dataframe tbody tr th:only-of-type {\n",
       "        vertical-align: middle;\n",
       "    }\n",
       "\n",
       "    .dataframe tbody tr th {\n",
       "        vertical-align: top;\n",
       "    }\n",
       "\n",
       "    .dataframe thead th {\n",
       "        text-align: right;\n",
       "    }\n",
       "</style>\n",
       "<table border=\"1\" class=\"dataframe\">\n",
       "  <thead>\n",
       "    <tr style=\"text-align: right;\">\n",
       "      <th></th>\n",
       "      <th>A</th>\n",
       "      <th>B</th>\n",
       "      <th>C</th>\n",
       "    </tr>\n",
       "  </thead>\n",
       "  <tbody>\n",
       "    <tr>\n",
       "      <th>0</th>\n",
       "      <td>15.0</td>\n",
       "      <td>21.0</td>\n",
       "      <td>NaN</td>\n",
       "    </tr>\n",
       "    <tr>\n",
       "      <th>1</th>\n",
       "      <td>12.0</td>\n",
       "      <td>5.0</td>\n",
       "      <td>NaN</td>\n",
       "    </tr>\n",
       "    <tr>\n",
       "      <th>2</th>\n",
       "      <td>NaN</td>\n",
       "      <td>NaN</td>\n",
       "      <td>NaN</td>\n",
       "    </tr>\n",
       "  </tbody>\n",
       "</table>\n",
       "</div>"
      ],
      "text/plain": [
       "      A     B   C\n",
       "0  15.0  21.0 NaN\n",
       "1  12.0   5.0 NaN\n",
       "2   NaN   NaN NaN"
      ]
     },
     "execution_count": 10,
     "metadata": {},
     "output_type": "execute_result"
    }
   ],
   "source": [
    "data_frame1 + data_frame2"
   ]
  },
  {
   "cell_type": "markdown",
   "id": "18659482",
   "metadata": {},
   "source": [
    "Единственный момент, который может смущать нас на данном этапе - наличие непонятного значения `NaN` в данных. При выполнении бинарных операций с объектами Pandas, мы можем предотвратить появление этого значения в результате. Чтобы это сделать, нам придется воспользоваться другой формой бинарных операций - бинарными операциями в форме методов объектов `pd.Series` и `pd.DataFrame`. При использовании данной формы бинарных операций с помощью аргумента `fill_value` мы можем явно указать, какое значение стоит использовать в тех случаях, когда ключ отсутствует в одном из операндов. В этом случае результат будет выглядеть так:"
   ]
  },
  {
   "cell_type": "code",
   "execution_count": 11,
   "id": "e43288e0",
   "metadata": {},
   "outputs": [
    {
     "data": {
      "text/html": [
       "<div>\n",
       "<style scoped>\n",
       "    .dataframe tbody tr th:only-of-type {\n",
       "        vertical-align: middle;\n",
       "    }\n",
       "\n",
       "    .dataframe tbody tr th {\n",
       "        vertical-align: top;\n",
       "    }\n",
       "\n",
       "    .dataframe thead th {\n",
       "        text-align: right;\n",
       "    }\n",
       "</style>\n",
       "<table border=\"1\" class=\"dataframe\">\n",
       "  <thead>\n",
       "    <tr style=\"text-align: right;\">\n",
       "      <th></th>\n",
       "      <th>A</th>\n",
       "      <th>B</th>\n",
       "      <th>C</th>\n",
       "    </tr>\n",
       "  </thead>\n",
       "  <tbody>\n",
       "    <tr>\n",
       "      <th>0</th>\n",
       "      <td>15.0</td>\n",
       "      <td>21.0</td>\n",
       "      <td>0.0</td>\n",
       "    </tr>\n",
       "    <tr>\n",
       "      <th>1</th>\n",
       "      <td>12.0</td>\n",
       "      <td>5.0</td>\n",
       "      <td>3.0</td>\n",
       "    </tr>\n",
       "    <tr>\n",
       "      <th>2</th>\n",
       "      <td>7.0</td>\n",
       "      <td>5.0</td>\n",
       "      <td>9.0</td>\n",
       "    </tr>\n",
       "  </tbody>\n",
       "</table>\n",
       "</div>"
      ],
      "text/plain": [
       "      A     B    C\n",
       "0  15.0  21.0  0.0\n",
       "1  12.0   5.0  3.0\n",
       "2   7.0   5.0  9.0"
      ]
     },
     "execution_count": 11,
     "metadata": {},
     "output_type": "execute_result"
    }
   ],
   "source": [
    "data_frame1.add(data_frame2, fill_value=0)"
   ]
  },
  {
   "cell_type": "markdown",
   "id": "13f4c244",
   "metadata": {},
   "source": [
    "Таблица соответствия методов и бинарных операций:\n",
    "\n",
    "| Оператор Python | Метод объекта Pandas |\n",
    "|---|---|\n",
    "| + | add() |\n",
    "| - | sub(), subtract() |\n",
    "| * | mul(), multiply() |\n",
    "| / | truediv(), div(), divide() |\n",
    "| // | floordiv() |\n",
    "| % | mod() |\n",
    "| ** | pow() |"
   ]
  },
  {
   "cell_type": "markdown",
   "id": "b3d1e432",
   "metadata": {},
   "source": [
    "### Транслирование (Broadcasting)\n",
    "\n",
    "Во всех предыдущих примерах для выполнения бинарных операций мы использовали операнды одних и тех же типов данных. Однако мы можем выполнять бинарные операции с операндами различных типов данных. Например, мы можем вычитать объект типа `pd.Series` из объекта типа `pd.DataFrame`. В случае, если индексы объектов совпадают, результат будет аналогичен вычитанию одномерного массива `np.ndarray` из двумерного массива `np.ndarray`. Т.е. будет происходить транслирование одномерного объекта по уже знакомым нам правилам:"
   ]
  },
  {
   "cell_type": "code",
   "execution_count": 12,
   "id": "230861d8",
   "metadata": {},
   "outputs": [
    {
     "data": {
      "text/html": [
       "<div>\n",
       "<style scoped>\n",
       "    .dataframe tbody tr th:only-of-type {\n",
       "        vertical-align: middle;\n",
       "    }\n",
       "\n",
       "    .dataframe tbody tr th {\n",
       "        vertical-align: top;\n",
       "    }\n",
       "\n",
       "    .dataframe thead th {\n",
       "        text-align: right;\n",
       "    }\n",
       "</style>\n",
       "<table border=\"1\" class=\"dataframe\">\n",
       "  <thead>\n",
       "    <tr style=\"text-align: right;\">\n",
       "      <th></th>\n",
       "      <th>col_1</th>\n",
       "      <th>col_2</th>\n",
       "      <th>col_3</th>\n",
       "      <th>col_4</th>\n",
       "    </tr>\n",
       "  </thead>\n",
       "  <tbody>\n",
       "    <tr>\n",
       "      <th>row_1</th>\n",
       "      <td>2</td>\n",
       "      <td>2</td>\n",
       "      <td>9</td>\n",
       "      <td>4</td>\n",
       "    </tr>\n",
       "    <tr>\n",
       "      <th>row_2</th>\n",
       "      <td>7</td>\n",
       "      <td>0</td>\n",
       "      <td>5</td>\n",
       "      <td>3</td>\n",
       "    </tr>\n",
       "    <tr>\n",
       "      <th>row_3</th>\n",
       "      <td>9</td>\n",
       "      <td>0</td>\n",
       "      <td>7</td>\n",
       "      <td>2</td>\n",
       "    </tr>\n",
       "  </tbody>\n",
       "</table>\n",
       "</div>"
      ],
      "text/plain": [
       "       col_1  col_2  col_3  col_4\n",
       "row_1      2      2      9      4\n",
       "row_2      7      0      5      3\n",
       "row_3      9      0      7      2"
      ]
     },
     "execution_count": 12,
     "metadata": {},
     "output_type": "execute_result"
    }
   ],
   "source": [
    "row_amount, col_amount = 3, 4\n",
    "\n",
    "data_frame = pd.DataFrame(\n",
    "    data=np.random.randint(0, 10, size=(row_amount, col_amount)),\n",
    "    index=[f\"row_{i + 1}\" for i in range(row_amount)],\n",
    "    columns=[f\"col_{i + 1}\" for i in range(col_amount)],\n",
    ")\n",
    "data_frame"
   ]
  },
  {
   "cell_type": "code",
   "execution_count": 13,
   "id": "4ade2ccc",
   "metadata": {},
   "outputs": [
    {
     "data": {
      "text/html": [
       "<div>\n",
       "<style scoped>\n",
       "    .dataframe tbody tr th:only-of-type {\n",
       "        vertical-align: middle;\n",
       "    }\n",
       "\n",
       "    .dataframe tbody tr th {\n",
       "        vertical-align: top;\n",
       "    }\n",
       "\n",
       "    .dataframe thead th {\n",
       "        text-align: right;\n",
       "    }\n",
       "</style>\n",
       "<table border=\"1\" class=\"dataframe\">\n",
       "  <thead>\n",
       "    <tr style=\"text-align: right;\">\n",
       "      <th></th>\n",
       "      <th>col_1</th>\n",
       "      <th>col_2</th>\n",
       "      <th>col_3</th>\n",
       "      <th>col_4</th>\n",
       "    </tr>\n",
       "  </thead>\n",
       "  <tbody>\n",
       "    <tr>\n",
       "      <th>row_1</th>\n",
       "      <td>-5</td>\n",
       "      <td>2</td>\n",
       "      <td>4</td>\n",
       "      <td>1</td>\n",
       "    </tr>\n",
       "    <tr>\n",
       "      <th>row_2</th>\n",
       "      <td>0</td>\n",
       "      <td>0</td>\n",
       "      <td>0</td>\n",
       "      <td>0</td>\n",
       "    </tr>\n",
       "    <tr>\n",
       "      <th>row_3</th>\n",
       "      <td>2</td>\n",
       "      <td>0</td>\n",
       "      <td>2</td>\n",
       "      <td>-1</td>\n",
       "    </tr>\n",
       "  </tbody>\n",
       "</table>\n",
       "</div>"
      ],
      "text/plain": [
       "       col_1  col_2  col_3  col_4\n",
       "row_1     -5      2      4      1\n",
       "row_2      0      0      0      0\n",
       "row_3      2      0      2     -1"
      ]
     },
     "execution_count": 13,
     "metadata": {},
     "output_type": "execute_result"
    }
   ],
   "source": [
    "data_frame - data_frame.loc[\"row_2\"]"
   ]
  },
  {
   "cell_type": "markdown",
   "id": "e2b88e9f",
   "metadata": {},
   "source": [
    "По умолчанию вычитание происходит построчно. Однако далеко не всегда мы хотим выполнять операции построчно. Существуют случае, когда нам необходимо выполнить некоторую операцию по столбцам. В этом случае нам придется воспользоваться методами объектов Pandas для выполнения бинарных операций, а также указать значение аргумента `axis=0`."
   ]
  },
  {
   "cell_type": "code",
   "execution_count": 14,
   "id": "cc6ea5aa",
   "metadata": {},
   "outputs": [
    {
     "data": {
      "text/html": [
       "<div>\n",
       "<style scoped>\n",
       "    .dataframe tbody tr th:only-of-type {\n",
       "        vertical-align: middle;\n",
       "    }\n",
       "\n",
       "    .dataframe tbody tr th {\n",
       "        vertical-align: top;\n",
       "    }\n",
       "\n",
       "    .dataframe thead th {\n",
       "        text-align: right;\n",
       "    }\n",
       "</style>\n",
       "<table border=\"1\" class=\"dataframe\">\n",
       "  <thead>\n",
       "    <tr style=\"text-align: right;\">\n",
       "      <th></th>\n",
       "      <th>col_1</th>\n",
       "      <th>col_2</th>\n",
       "      <th>col_3</th>\n",
       "      <th>col_4</th>\n",
       "    </tr>\n",
       "  </thead>\n",
       "  <tbody>\n",
       "    <tr>\n",
       "      <th>row_1</th>\n",
       "      <td>0</td>\n",
       "      <td>0</td>\n",
       "      <td>7</td>\n",
       "      <td>2</td>\n",
       "    </tr>\n",
       "    <tr>\n",
       "      <th>row_2</th>\n",
       "      <td>0</td>\n",
       "      <td>-7</td>\n",
       "      <td>-2</td>\n",
       "      <td>-4</td>\n",
       "    </tr>\n",
       "    <tr>\n",
       "      <th>row_3</th>\n",
       "      <td>0</td>\n",
       "      <td>-9</td>\n",
       "      <td>-2</td>\n",
       "      <td>-7</td>\n",
       "    </tr>\n",
       "  </tbody>\n",
       "</table>\n",
       "</div>"
      ],
      "text/plain": [
       "       col_1  col_2  col_3  col_4\n",
       "row_1      0      0      7      2\n",
       "row_2      0     -7     -2     -4\n",
       "row_3      0     -9     -2     -7"
      ]
     },
     "execution_count": 14,
     "metadata": {},
     "output_type": "execute_result"
    }
   ],
   "source": [
    "data_frame.subtract(data_frame[\"col_1\"], axis=0)"
   ]
  },
  {
   "cell_type": "markdown",
   "id": "de2892dd",
   "metadata": {},
   "source": [
    "Также далеко не всегда индексы операндов могут совпадать. В этом случае будет происходить уже знакомое нам выравнивание."
   ]
  },
  {
   "cell_type": "code",
   "execution_count": 15,
   "id": "b97c7aaa",
   "metadata": {},
   "outputs": [
    {
     "name": "stdout",
     "output_type": "stream",
     "text": [
      "even columns values from first row:\n",
      "col_1    2\n",
      "col_3    9\n",
      "Name: row_1, dtype: int32\n"
     ]
    }
   ],
   "source": [
    "first_row_odd_columns = data_frame.iloc[0, ::2]\n",
    "\n",
    "print(\n",
    "    \"even columns values from first row:\\n\"\n",
    "    f\"{first_row_odd_columns}\"\n",
    ")"
   ]
  },
  {
   "cell_type": "code",
   "execution_count": 16,
   "id": "11a194ef",
   "metadata": {},
   "outputs": [
    {
     "data": {
      "text/html": [
       "<div>\n",
       "<style scoped>\n",
       "    .dataframe tbody tr th:only-of-type {\n",
       "        vertical-align: middle;\n",
       "    }\n",
       "\n",
       "    .dataframe tbody tr th {\n",
       "        vertical-align: top;\n",
       "    }\n",
       "\n",
       "    .dataframe thead th {\n",
       "        text-align: right;\n",
       "    }\n",
       "</style>\n",
       "<table border=\"1\" class=\"dataframe\">\n",
       "  <thead>\n",
       "    <tr style=\"text-align: right;\">\n",
       "      <th></th>\n",
       "      <th>col_1</th>\n",
       "      <th>col_2</th>\n",
       "      <th>col_3</th>\n",
       "      <th>col_4</th>\n",
       "    </tr>\n",
       "  </thead>\n",
       "  <tbody>\n",
       "    <tr>\n",
       "      <th>row_1</th>\n",
       "      <td>0.0</td>\n",
       "      <td>NaN</td>\n",
       "      <td>0.0</td>\n",
       "      <td>NaN</td>\n",
       "    </tr>\n",
       "    <tr>\n",
       "      <th>row_2</th>\n",
       "      <td>5.0</td>\n",
       "      <td>NaN</td>\n",
       "      <td>-4.0</td>\n",
       "      <td>NaN</td>\n",
       "    </tr>\n",
       "    <tr>\n",
       "      <th>row_3</th>\n",
       "      <td>7.0</td>\n",
       "      <td>NaN</td>\n",
       "      <td>-2.0</td>\n",
       "      <td>NaN</td>\n",
       "    </tr>\n",
       "  </tbody>\n",
       "</table>\n",
       "</div>"
      ],
      "text/plain": [
       "       col_1  col_2  col_3  col_4\n",
       "row_1    0.0    NaN    0.0    NaN\n",
       "row_2    5.0    NaN   -4.0    NaN\n",
       "row_3    7.0    NaN   -2.0    NaN"
      ]
     },
     "execution_count": 16,
     "metadata": {},
     "output_type": "execute_result"
    }
   ],
   "source": [
    "data_frame - first_row_odd_columns"
   ]
  },
  {
   "cell_type": "markdown",
   "id": "384c1a50",
   "metadata": {},
   "source": [
    "## NaN. Обработка отсутствующих данных\n",
    "\n",
    "### Что такое NaN и откуда он взялся?\n",
    "\n",
    "В предыдущих примерах мы столкнулись со значением `NaN` в наших данных. Это специальное значение, которое Pandas использует для того, чтобы помечать отсутствующие данные. `NaN` - акроним, составленный из первых букв фразы *not a number*. Давайте разберемся, как еще `NaN` может попасть в наши данные, как задать это значение самостоятельно, и как с ним работать.\n",
    "\n",
    "Часто при работе с реальными данными, нам приходится сталкиваться с неполными данными. Например, в результате некоторого статистического опроса несколько респондентов забыли заполнить графу возраста. В этом случае некоторые данные о респондентах будут неполные. Неполные данные легко представить на бумаге, но как представлять неполные данные в коде?  В Python для этих целей мы использовали объект-синглтон None. Однако при работе с NumPy использование None приводит к печальным последствиям. Рассмотрим пример."
   ]
  },
  {
   "cell_type": "code",
   "execution_count": 17,
   "id": "5f38af7a",
   "metadata": {},
   "outputs": [
    {
     "name": "stdout",
     "output_type": "stream",
     "text": [
      "array data:\n",
      "[1 2 None 4]\n",
      "\n",
      "array dtype: object\n"
     ]
    }
   ],
   "source": [
    "array = np.array([1, 2, None, 4])\n",
    "\n",
    "print(\n",
    "    f\"array data:\\n{array}\",\n",
    "    f\"array dtype: {array.dtype}\",\n",
    "    sep=\"\\n\\n\",\n",
    ")"
   ]
  },
  {
   "cell_type": "markdown",
   "id": "08b1b30e",
   "metadata": {},
   "source": [
    "Из этого кода следует следующее. Если NumPy встречает в данных объект `None`, он осуществляет повышающее преобразование типов. После преобразования типов в массиве `np.ndarray` будут лежать данные типа `object`. Т.е. NumPy будет воспринимать содержимое  массива, как обычные объекты Python. Это значит, что работа с таким массивом не будет отличаться от работы с обычными списками Python. Никакая векторизация в таком случае невозможна."
   ]
  },
  {
   "cell_type": "code",
   "execution_count": 18,
   "id": "738c0198",
   "metadata": {},
   "outputs": [
    {
     "name": "stdout",
     "output_type": "stream",
     "text": [
      "dtype: np.object_\n",
      "time_taken: 0.0401s;\n",
      "\n",
      "dtype: np.int32\n",
      "time_taken: 0.0016s;\n",
      "\n"
     ]
    }
   ],
   "source": [
    "setup = \"import numpy as np\"\n",
    "template = \"np.arange(int(1e6), dtype=%s).sum()\"\n",
    "iteration_amount = 1000\n",
    "\n",
    "for dtype in [\"np.object_\", \"np.int32\"]:\n",
    "    print(f\"dtype: {dtype}\")\n",
    "    time_per_iter = timeit.timeit(\n",
    "        setup=setup,\n",
    "        stmt=template % dtype,\n",
    "        number=iteration_amount,\n",
    "    ) / iteration_amount\n",
    "    print(f\"time_taken: {time_per_iter:.4f}s;\", end=\"\\n\\n\")"
   ]
  },
  {
   "cell_type": "markdown",
   "id": "b6c1f267",
   "metadata": {},
   "source": [
    "Более того, мы даже не сможем выполнять некоторые агрегирующие операции над содержимым такого массива. Из-за наличия в данных `None` мы с большой долей вероятности получим ошибку."
   ]
  },
  {
   "cell_type": "code",
   "execution_count": 19,
   "id": "98ce680c",
   "metadata": {},
   "outputs": [
    {
     "name": "stdout",
     "output_type": "stream",
     "text": [
      "array:\n",
      "[1 2 None 4]\n"
     ]
    },
    {
     "ename": "TypeError",
     "evalue": "unsupported operand type(s) for +: 'int' and 'NoneType'",
     "output_type": "error",
     "traceback": [
      "\u001b[1;31m---------------------------------------------------------------------------\u001b[0m",
      "\u001b[1;31mTypeError\u001b[0m                                 Traceback (most recent call last)",
      "Cell \u001b[1;32mIn[19], line 2\u001b[0m\n\u001b[0;32m      1\u001b[0m \u001b[38;5;28mprint\u001b[39m(\u001b[38;5;124mf\u001b[39m\u001b[38;5;124m\"\u001b[39m\u001b[38;5;124marray:\u001b[39m\u001b[38;5;130;01m\\n\u001b[39;00m\u001b[38;5;132;01m{\u001b[39;00marray\u001b[38;5;132;01m}\u001b[39;00m\u001b[38;5;124m\"\u001b[39m)\n\u001b[1;32m----> 2\u001b[0m sum_of_elements \u001b[38;5;241m=\u001b[39m \u001b[43marray\u001b[49m\u001b[38;5;241;43m.\u001b[39;49m\u001b[43msum\u001b[49m\u001b[43m(\u001b[49m\u001b[43m)\u001b[49m\n",
      "File \u001b[1;32mc:\\Users\\Michail\\Desktop\\mipt\\teaching\\python_mipt_dafe\\venv\\Lib\\site-packages\\numpy\\core\\_methods.py:49\u001b[0m, in \u001b[0;36m_sum\u001b[1;34m(a, axis, dtype, out, keepdims, initial, where)\u001b[0m\n\u001b[0;32m     47\u001b[0m \u001b[38;5;28;01mdef\u001b[39;00m\u001b[38;5;250m \u001b[39m\u001b[38;5;21m_sum\u001b[39m(a, axis\u001b[38;5;241m=\u001b[39m\u001b[38;5;28;01mNone\u001b[39;00m, dtype\u001b[38;5;241m=\u001b[39m\u001b[38;5;28;01mNone\u001b[39;00m, out\u001b[38;5;241m=\u001b[39m\u001b[38;5;28;01mNone\u001b[39;00m, keepdims\u001b[38;5;241m=\u001b[39m\u001b[38;5;28;01mFalse\u001b[39;00m,\n\u001b[0;32m     48\u001b[0m          initial\u001b[38;5;241m=\u001b[39m_NoValue, where\u001b[38;5;241m=\u001b[39m\u001b[38;5;28;01mTrue\u001b[39;00m):\n\u001b[1;32m---> 49\u001b[0m     \u001b[38;5;28;01mreturn\u001b[39;00m umr_sum(a, axis, dtype, out, keepdims, initial, where)\n",
      "\u001b[1;31mTypeError\u001b[0m: unsupported operand type(s) for +: 'int' and 'NoneType'"
     ]
    }
   ],
   "source": [
    "print(f\"array:\\n{array}\")\n",
    "sum_of_elements = array.sum()"
   ]
  },
  {
   "cell_type": "markdown",
   "id": "68b67458",
   "metadata": {},
   "source": [
    "Чтобы обойти все эти ограничения, в NumPy реализовано специальное сигнальное значение `np.nan` в соответствии со стандартом IEEE. Фактически `np.nan` - это специальное число с плавающей точкой, используемое в качестве признака отсутствия данных. "
   ]
  },
  {
   "cell_type": "code",
   "execution_count": 20,
   "id": "2aaa3081",
   "metadata": {},
   "outputs": [
    {
     "name": "stdout",
     "output_type": "stream",
     "text": [
      "array data:\n",
      "[ 1.  2. nan  3.]\n",
      "\n",
      "array dtype: float64\n"
     ]
    }
   ],
   "source": [
    "array = np.array([1, 2, np.nan, 3])\n",
    "\n",
    "print(\n",
    "    f\"array data:\\n{array}\",\n",
    "    f\"array dtype: {array.dtype}\",\n",
    "    sep=\"\\n\\n\",\n",
    ")"
   ]
  },
  {
   "cell_type": "markdown",
   "id": "69ae59c6",
   "metadata": {},
   "source": [
    "По своей природе значение `np.nan` похоже на вирус, который заражает собой любые данные, т.к. при выполнении любой операции с использованием `np.nan` результат также будет представлять собой `np.nan`."
   ]
  },
  {
   "cell_type": "code",
   "execution_count": 21,
   "id": "a5fdf3cd",
   "metadata": {},
   "outputs": [
    {
     "name": "stdout",
     "output_type": "stream",
     "text": [
      "addition: nan\n",
      "multiplication: nan\n",
      "agregation: nan\n",
      "safe agregation: 6.0\n"
     ]
    }
   ],
   "source": [
    "print(\n",
    "    f\"addition: {np.nan + 42}\",\n",
    "    f\"multiplication: {np.nan * 42}\",\n",
    "    f\"agregation: {array.sum()}\",\n",
    "    f\"safe agregation: {np.nansum(array)}\",\n",
    "    sep=\"\\n\",\n",
    ")"
   ]
  },
  {
   "cell_type": "markdown",
   "id": "f5c3c546",
   "metadata": {},
   "source": [
    "Поскольку в основе Pandas лежит NumPy, мы можем использовать значение `np.nan`, чтобы помечать отсутствующие данные. Также разработчики Pandas добавили возможность использования `None` для того, чтобы помечать отсутствующие данные. Таким образом мы имеем два взаимозаменяемых способа задания пропущенных значений."
   ]
  },
  {
   "cell_type": "code",
   "execution_count": 22,
   "id": "11cad3a7",
   "metadata": {},
   "outputs": [
    {
     "name": "stdout",
     "output_type": "stream",
     "text": [
      "series:\n",
      "0    1.0\n",
      "1    NaN\n",
      "2    2.0\n",
      "3    NaN\n",
      "dtype: float64\n"
     ]
    }
   ],
   "source": [
    "series = pd.Series([1, None, 2, np.nan])\n",
    "print(f\"series:\\n{series}\")"
   ]
  },
  {
   "cell_type": "markdown",
   "id": "1b78fa90",
   "metadata": {},
   "source": [
    "Также обращаем ваше внимание, что при появлении в данных `NaN`, Pandas может произвести повышающее преобразование типов. Так, в данном примеры изначальный тип данных объекта `pd.Series` был `int32`, т.е. тип данных был целочисленный. После того, как мы пометили данные под индексом 0 как отсутствующие, Pandas произвел повышающее преобразование типов до `float64`. Это произошло, потому что `np.nan` - это число с плавающей точкой, а объект `None`, используемый для пометки отсутствующих данных, Pandas неявно преобразует в `np.nan`."
   ]
  },
  {
   "cell_type": "code",
   "execution_count": 23,
   "id": "43d7def3",
   "metadata": {},
   "outputs": [
    {
     "name": "stdout",
     "output_type": "stream",
     "text": [
      "original series:\n",
      "0    0\n",
      "1    1\n",
      "2    2\n",
      "3    3\n",
      "dtype: int32\n",
      "\n",
      "corrupted series:\n",
      "0    NaN\n",
      "1    1.0\n",
      "2    2.0\n",
      "3    3.0\n",
      "dtype: float64\n"
     ]
    }
   ],
   "source": [
    "series = pd.Series(np.arange(4))\n",
    "print(f\"original series:\\n{series}\", end=\"\\n\\n\")\n",
    "\n",
    "series[0] = None\n",
    "print(f\"corrupted series:\\n{series}\")"
   ]
  },
  {
   "cell_type": "markdown",
   "id": "813cedb4",
   "metadata": {},
   "source": [
    "### Выявление пустых значений\n",
    "\n",
    "Первое, что стоит сделать с полученными данными - определить, присутствуют ли в них пропуски или нет. И если пропуски присутствуют, желательно понимать, где именно. Определить положения `NaN` в данных можно с помощью метода `isnull`."
   ]
  },
  {
   "cell_type": "code",
   "execution_count": 24,
   "id": "dd2f1644",
   "metadata": {},
   "outputs": [
    {
     "name": "stdout",
     "output_type": "stream",
     "text": [
      "series:\n",
      "0    1.0\n",
      "1    NaN\n",
      "2    2.0\n",
      "3    3.0\n",
      "4    NaN\n",
      "dtype: float64\n"
     ]
    }
   ],
   "source": [
    "series = pd.Series([1, None, 2, 3, np.nan])\n",
    "print(f\"series:\\n{series}\")"
   ]
  },
  {
   "cell_type": "code",
   "execution_count": 25,
   "id": "af9cc39e",
   "metadata": {},
   "outputs": [
    {
     "name": "stdout",
     "output_type": "stream",
     "text": [
      "missed data mask:\n",
      "0    False\n",
      "1     True\n",
      "2    False\n",
      "3    False\n",
      "4     True\n",
      "dtype: bool\n"
     ]
    }
   ],
   "source": [
    "mask_data_missed = series.isnull()\n",
    "print(f\"missed data mask:\\n{mask_data_missed}\")"
   ]
  },
  {
   "cell_type": "markdown",
   "id": "feebcc89",
   "metadata": {},
   "source": [
    "В Pandas также определен антипод метода `isnull` - `notnull`, который позволяет определить булеву маски для данных, не являющихся `NaN`."
   ]
  },
  {
   "cell_type": "code",
   "execution_count": 26,
   "id": "f266cee8",
   "metadata": {},
   "outputs": [
    {
     "name": "stdout",
     "output_type": "stream",
     "text": [
      "corrupted data:\n",
      "1   NaN\n",
      "4   NaN\n",
      "dtype: float64\n",
      "\n",
      "correct data:\n",
      "0    1.0\n",
      "2    2.0\n",
      "3    3.0\n",
      "dtype: float64\n"
     ]
    }
   ],
   "source": [
    "print(\n",
    "    f\"corrupted data:\\n{series[mask_data_missed]}\",\n",
    "    f\"correct data:\\n{series[series.notnull()]}\",\n",
    "    sep=\"\\n\\n\",\n",
    ")"
   ]
  },
  {
   "cell_type": "markdown",
   "id": "e844fead",
   "metadata": {},
   "source": [
    "### Удаление пустых значений\n",
    "\n",
    "Установив наличие `NaN` в данных, необходимо решить, что с ними делать. Редко в каких задачах уместно оставлять пропущенные данные. Обычно от пропусков или избавляются, или пытаются их заполнить по определенным правилам. Если данных очень много, пропусков очень мало, а их заполнение нецелесообразно, может потребоваться простое удаление таких данных из Pandas объектов. Это можно сделать с помощью метода `dropna`. "
   ]
  },
  {
   "cell_type": "code",
   "execution_count": 27,
   "id": "cfcf92bc",
   "metadata": {},
   "outputs": [
    {
     "name": "stdout",
     "output_type": "stream",
     "text": [
      "series:\n",
      "0    1.0\n",
      "1    NaN\n",
      "2    2.0\n",
      "3    3.0\n",
      "4    NaN\n",
      "dtype: float64\n"
     ]
    }
   ],
   "source": [
    "series = pd.Series([1, None, 2, 3, np.nan])\n",
    "print(f\"series:\\n{series}\")"
   ]
  },
  {
   "cell_type": "code",
   "execution_count": 28,
   "id": "a26a7edf",
   "metadata": {},
   "outputs": [
    {
     "name": "stdout",
     "output_type": "stream",
     "text": [
      "correct data:\n",
      "0    1.0\n",
      "2    2.0\n",
      "3    3.0\n",
      "dtype: float64\n"
     ]
    }
   ],
   "source": [
    "print(\n",
    "    f\"correct data:\\n{series.dropna()}\",\n",
    ")"
   ]
  },
  {
   "cell_type": "markdown",
   "id": "1de47dc1",
   "metadata": {},
   "source": [
    "В случае работы с объектом `pd.Series` удаление `NaN` довольно прямолинейно. Однако при удалении данных из `pd.DataFrame` возникают сложности. Дело в том, что мы не можем удалять из датафрейма отдельные ячейки с данными. Можно удалить только строку или столбец целиком. По умолчанию `dropna` удаляет строки, содержащие хотя бы одно значение `NaN`."
   ]
  },
  {
   "cell_type": "code",
   "execution_count": 29,
   "id": "9012369e",
   "metadata": {},
   "outputs": [
    {
     "data": {
      "text/html": [
       "<div>\n",
       "<style scoped>\n",
       "    .dataframe tbody tr th:only-of-type {\n",
       "        vertical-align: middle;\n",
       "    }\n",
       "\n",
       "    .dataframe tbody tr th {\n",
       "        vertical-align: top;\n",
       "    }\n",
       "\n",
       "    .dataframe thead th {\n",
       "        text-align: right;\n",
       "    }\n",
       "</style>\n",
       "<table border=\"1\" class=\"dataframe\">\n",
       "  <thead>\n",
       "    <tr style=\"text-align: right;\">\n",
       "      <th></th>\n",
       "      <th>A</th>\n",
       "      <th>B</th>\n",
       "      <th>C</th>\n",
       "    </tr>\n",
       "  </thead>\n",
       "  <tbody>\n",
       "    <tr>\n",
       "      <th>0</th>\n",
       "      <td>1.0</td>\n",
       "      <td>2</td>\n",
       "      <td>NaN</td>\n",
       "    </tr>\n",
       "    <tr>\n",
       "      <th>1</th>\n",
       "      <td>4.0</td>\n",
       "      <td>5</td>\n",
       "      <td>6.0</td>\n",
       "    </tr>\n",
       "    <tr>\n",
       "      <th>2</th>\n",
       "      <td>NaN</td>\n",
       "      <td>8</td>\n",
       "      <td>NaN</td>\n",
       "    </tr>\n",
       "  </tbody>\n",
       "</table>\n",
       "</div>"
      ],
      "text/plain": [
       "     A  B    C\n",
       "0  1.0  2  NaN\n",
       "1  4.0  5  6.0\n",
       "2  NaN  8  NaN"
      ]
     },
     "execution_count": 29,
     "metadata": {},
     "output_type": "execute_result"
    }
   ],
   "source": [
    "data_frame = pd.DataFrame(\n",
    "    data=[\n",
    "        [1, 2, np.nan],\n",
    "        [4, 5, 6],\n",
    "        [np.nan, 8, np.nan],\n",
    "    ],\n",
    "    columns=list(\"ABC\")\n",
    ")\n",
    "data_frame"
   ]
  },
  {
   "cell_type": "code",
   "execution_count": 30,
   "id": "6a7faa7b",
   "metadata": {},
   "outputs": [
    {
     "data": {
      "text/html": [
       "<div>\n",
       "<style scoped>\n",
       "    .dataframe tbody tr th:only-of-type {\n",
       "        vertical-align: middle;\n",
       "    }\n",
       "\n",
       "    .dataframe tbody tr th {\n",
       "        vertical-align: top;\n",
       "    }\n",
       "\n",
       "    .dataframe thead th {\n",
       "        text-align: right;\n",
       "    }\n",
       "</style>\n",
       "<table border=\"1\" class=\"dataframe\">\n",
       "  <thead>\n",
       "    <tr style=\"text-align: right;\">\n",
       "      <th></th>\n",
       "      <th>A</th>\n",
       "      <th>B</th>\n",
       "      <th>C</th>\n",
       "    </tr>\n",
       "  </thead>\n",
       "  <tbody>\n",
       "    <tr>\n",
       "      <th>1</th>\n",
       "      <td>4.0</td>\n",
       "      <td>5</td>\n",
       "      <td>6.0</td>\n",
       "    </tr>\n",
       "  </tbody>\n",
       "</table>\n",
       "</div>"
      ],
      "text/plain": [
       "     A  B    C\n",
       "1  4.0  5  6.0"
      ]
     },
     "execution_count": 30,
     "metadata": {},
     "output_type": "execute_result"
    }
   ],
   "source": [
    "data_frame.dropna()"
   ]
  },
  {
   "cell_type": "markdown",
   "id": "c52079da",
   "metadata": {},
   "source": [
    "Используя аргумент `axis`, мы можем указать измерение, вдоль которого должно анализироваться наличие пропусков. В примере ниже будут удалены все столбцы, содержащие хотя бы одно значение `NaN`."
   ]
  },
  {
   "cell_type": "code",
   "execution_count": 31,
   "id": "21e95bd4",
   "metadata": {},
   "outputs": [
    {
     "data": {
      "text/html": [
       "<div>\n",
       "<style scoped>\n",
       "    .dataframe tbody tr th:only-of-type {\n",
       "        vertical-align: middle;\n",
       "    }\n",
       "\n",
       "    .dataframe tbody tr th {\n",
       "        vertical-align: top;\n",
       "    }\n",
       "\n",
       "    .dataframe thead th {\n",
       "        text-align: right;\n",
       "    }\n",
       "</style>\n",
       "<table border=\"1\" class=\"dataframe\">\n",
       "  <thead>\n",
       "    <tr style=\"text-align: right;\">\n",
       "      <th></th>\n",
       "      <th>B</th>\n",
       "    </tr>\n",
       "  </thead>\n",
       "  <tbody>\n",
       "    <tr>\n",
       "      <th>0</th>\n",
       "      <td>2</td>\n",
       "    </tr>\n",
       "    <tr>\n",
       "      <th>1</th>\n",
       "      <td>5</td>\n",
       "    </tr>\n",
       "    <tr>\n",
       "      <th>2</th>\n",
       "      <td>8</td>\n",
       "    </tr>\n",
       "  </tbody>\n",
       "</table>\n",
       "</div>"
      ],
      "text/plain": [
       "   B\n",
       "0  2\n",
       "1  5\n",
       "2  8"
      ]
     },
     "execution_count": 31,
     "metadata": {},
     "output_type": "execute_result"
    }
   ],
   "source": [
    "data_frame.dropna(axis=\"columns\")"
   ]
  },
  {
   "cell_type": "markdown",
   "id": "b828ef8b",
   "metadata": {},
   "source": [
    "Так же функция `dropna` позволяет настраивать стратегии удаления строк и столбцов из датафрейма. Как говорилось выше, по умолчанию для удаления строки или столбца достаточно наличия хотя бы одного значения `NaN`. Однако такая стратегия может быть не всегда уместной. Часто в нашем распоряжении не так много данных, чтобы мы могли позволить себе выбрасывать строки или столбцы только из-за наличия одного `NaN`. Именно поэтому Pandas позволяет настроить правила, в соответствии с которым будет происходить удаление строк или столбцов. Так мы можем установить минимальное число значений отличных от `NaN`, необходимое для сохранения строки или столбца в датафрейме. Сделать это можно с помощью параметра `thresh`."
   ]
  },
  {
   "cell_type": "code",
   "execution_count": 32,
   "id": "05b8882c",
   "metadata": {},
   "outputs": [
    {
     "data": {
      "text/html": [
       "<div>\n",
       "<style scoped>\n",
       "    .dataframe tbody tr th:only-of-type {\n",
       "        vertical-align: middle;\n",
       "    }\n",
       "\n",
       "    .dataframe tbody tr th {\n",
       "        vertical-align: top;\n",
       "    }\n",
       "\n",
       "    .dataframe thead th {\n",
       "        text-align: right;\n",
       "    }\n",
       "</style>\n",
       "<table border=\"1\" class=\"dataframe\">\n",
       "  <thead>\n",
       "    <tr style=\"text-align: right;\">\n",
       "      <th></th>\n",
       "      <th>A</th>\n",
       "      <th>B</th>\n",
       "      <th>C</th>\n",
       "    </tr>\n",
       "  </thead>\n",
       "  <tbody>\n",
       "    <tr>\n",
       "      <th>0</th>\n",
       "      <td>1.0</td>\n",
       "      <td>2</td>\n",
       "      <td>NaN</td>\n",
       "    </tr>\n",
       "    <tr>\n",
       "      <th>1</th>\n",
       "      <td>4.0</td>\n",
       "      <td>5</td>\n",
       "      <td>6.0</td>\n",
       "    </tr>\n",
       "  </tbody>\n",
       "</table>\n",
       "</div>"
      ],
      "text/plain": [
       "     A  B    C\n",
       "0  1.0  2  NaN\n",
       "1  4.0  5  6.0"
      ]
     },
     "execution_count": 32,
     "metadata": {},
     "output_type": "execute_result"
    }
   ],
   "source": [
    "data_frame.dropna(thresh=2)"
   ]
  },
  {
   "cell_type": "markdown",
   "id": "0ee739b3",
   "metadata": {},
   "source": [
    "Также при необходимости мы можем удалять только те строки или столбцы, которые полностью заполнены `NaN`."
   ]
  },
  {
   "cell_type": "code",
   "execution_count": 33,
   "id": "0b67f1d2",
   "metadata": {},
   "outputs": [
    {
     "data": {
      "text/html": [
       "<div>\n",
       "<style scoped>\n",
       "    .dataframe tbody tr th:only-of-type {\n",
       "        vertical-align: middle;\n",
       "    }\n",
       "\n",
       "    .dataframe tbody tr th {\n",
       "        vertical-align: top;\n",
       "    }\n",
       "\n",
       "    .dataframe thead th {\n",
       "        text-align: right;\n",
       "    }\n",
       "</style>\n",
       "<table border=\"1\" class=\"dataframe\">\n",
       "  <thead>\n",
       "    <tr style=\"text-align: right;\">\n",
       "      <th></th>\n",
       "      <th>A</th>\n",
       "      <th>B</th>\n",
       "      <th>C</th>\n",
       "    </tr>\n",
       "  </thead>\n",
       "  <tbody>\n",
       "    <tr>\n",
       "      <th>0</th>\n",
       "      <td>1.0</td>\n",
       "      <td>2.0</td>\n",
       "      <td>NaN</td>\n",
       "    </tr>\n",
       "    <tr>\n",
       "      <th>1</th>\n",
       "      <td>4.0</td>\n",
       "      <td>5.0</td>\n",
       "      <td>6.0</td>\n",
       "    </tr>\n",
       "    <tr>\n",
       "      <th>2</th>\n",
       "      <td>NaN</td>\n",
       "      <td>NaN</td>\n",
       "      <td>NaN</td>\n",
       "    </tr>\n",
       "  </tbody>\n",
       "</table>\n",
       "</div>"
      ],
      "text/plain": [
       "     A    B    C\n",
       "0  1.0  2.0  NaN\n",
       "1  4.0  5.0  6.0\n",
       "2  NaN  NaN  NaN"
      ]
     },
     "execution_count": 33,
     "metadata": {},
     "output_type": "execute_result"
    }
   ],
   "source": [
    "data_frame.iloc[-1, 1] = np.nan\n",
    "data_frame"
   ]
  },
  {
   "cell_type": "code",
   "execution_count": 34,
   "id": "87d3c9c0",
   "metadata": {},
   "outputs": [
    {
     "data": {
      "text/html": [
       "<div>\n",
       "<style scoped>\n",
       "    .dataframe tbody tr th:only-of-type {\n",
       "        vertical-align: middle;\n",
       "    }\n",
       "\n",
       "    .dataframe tbody tr th {\n",
       "        vertical-align: top;\n",
       "    }\n",
       "\n",
       "    .dataframe thead th {\n",
       "        text-align: right;\n",
       "    }\n",
       "</style>\n",
       "<table border=\"1\" class=\"dataframe\">\n",
       "  <thead>\n",
       "    <tr style=\"text-align: right;\">\n",
       "      <th></th>\n",
       "      <th>A</th>\n",
       "      <th>B</th>\n",
       "      <th>C</th>\n",
       "    </tr>\n",
       "  </thead>\n",
       "  <tbody>\n",
       "    <tr>\n",
       "      <th>0</th>\n",
       "      <td>1.0</td>\n",
       "      <td>2.0</td>\n",
       "      <td>NaN</td>\n",
       "    </tr>\n",
       "    <tr>\n",
       "      <th>1</th>\n",
       "      <td>4.0</td>\n",
       "      <td>5.0</td>\n",
       "      <td>6.0</td>\n",
       "    </tr>\n",
       "  </tbody>\n",
       "</table>\n",
       "</div>"
      ],
      "text/plain": [
       "     A    B    C\n",
       "0  1.0  2.0  NaN\n",
       "1  4.0  5.0  6.0"
      ]
     },
     "execution_count": 34,
     "metadata": {},
     "output_type": "execute_result"
    }
   ],
   "source": [
    "data_frame.dropna(how=\"all\")"
   ]
  },
  {
   "cell_type": "markdown",
   "id": "6e556e33",
   "metadata": {},
   "source": [
    "### Заполнение пустых значений\n",
    "\n",
    "Выше упоминалось, что в нашем распоряжении обычно не так много данных, чтобы мы могли позволить себе их сокращение путем удаления. Именно поэтому часто более оптимальной стратегией для обработки пропусков является заполнение, а не удаление. Заполнить пропущенные данные в Pandas можно с помощью методов `fillna`, `ffill` и `bfill`.\n",
    "\n",
    "С помощью метода `fillna` можно заполнить недостающие данные переданным значением."
   ]
  },
  {
   "cell_type": "code",
   "execution_count": 35,
   "id": "0a8b4daf",
   "metadata": {},
   "outputs": [
    {
     "name": "stdout",
     "output_type": "stream",
     "text": [
      "series original:\n",
      "0    NaN\n",
      "1    1.0\n",
      "2    2.0\n",
      "3    3.0\n",
      "4    NaN\n",
      "dtype: float64\n",
      "\n",
      "series filled:\n",
      "0    0.0\n",
      "1    1.0\n",
      "2    2.0\n",
      "3    3.0\n",
      "4    0.0\n",
      "dtype: float64\n"
     ]
    }
   ],
   "source": [
    "series = pd.Series([None, 1, 2, 3, np.nan])\n",
    "print(\n",
    "    f\"series original:\\n{series}\",\n",
    "    f\"series filled:\\n{series.fillna(0)}\",\n",
    "    sep=\"\\n\\n\",\n",
    ")"
   ]
  },
  {
   "cell_type": "markdown",
   "id": "4190bd3b",
   "metadata": {},
   "source": [
    "`ffill` и `bfill` используют, соответственно, предшествующее и следующее значение для заполнения пропусков. "
   ]
  },
  {
   "cell_type": "code",
   "execution_count": 36,
   "id": "a57d255d",
   "metadata": {},
   "outputs": [
    {
     "name": "stdout",
     "output_type": "stream",
     "text": [
      "series original:\n",
      "0    NaN\n",
      "1    1.0\n",
      "2    2.0\n",
      "3    3.0\n",
      "4    NaN\n",
      "dtype: float64\n",
      "\n",
      "series forward fill:\n",
      "0    NaN\n",
      "1    1.0\n",
      "2    2.0\n",
      "3    3.0\n",
      "4    3.0\n",
      "dtype: float64\n",
      "\n",
      "series backward fill:\n",
      "0    1.0\n",
      "1    1.0\n",
      "2    2.0\n",
      "3    3.0\n",
      "4    NaN\n",
      "dtype: float64\n"
     ]
    }
   ],
   "source": [
    "print(\n",
    "    f\"series original:\\n{series}\",\n",
    "    f\"series forward fill:\\n{series.ffill()}\",\n",
    "    f\"series backward fill:\\n{series.bfill()}\",\n",
    "    sep=\"\\n\\n\",\n",
    ")"
   ]
  },
  {
   "cell_type": "markdown",
   "id": "af9b1881",
   "metadata": {},
   "source": [
    "В случае с `DataFrame` справедливо все, сказанное выше."
   ]
  },
  {
   "cell_type": "code",
   "execution_count": 37,
   "id": "8d24db39",
   "metadata": {},
   "outputs": [
    {
     "data": {
      "text/html": [
       "<div>\n",
       "<style scoped>\n",
       "    .dataframe tbody tr th:only-of-type {\n",
       "        vertical-align: middle;\n",
       "    }\n",
       "\n",
       "    .dataframe tbody tr th {\n",
       "        vertical-align: top;\n",
       "    }\n",
       "\n",
       "    .dataframe thead th {\n",
       "        text-align: right;\n",
       "    }\n",
       "</style>\n",
       "<table border=\"1\" class=\"dataframe\">\n",
       "  <thead>\n",
       "    <tr style=\"text-align: right;\">\n",
       "      <th></th>\n",
       "      <th>A</th>\n",
       "      <th>B</th>\n",
       "      <th>C</th>\n",
       "    </tr>\n",
       "  </thead>\n",
       "  <tbody>\n",
       "    <tr>\n",
       "      <th>0</th>\n",
       "      <td>1.0</td>\n",
       "      <td>2</td>\n",
       "      <td>NaN</td>\n",
       "    </tr>\n",
       "    <tr>\n",
       "      <th>1</th>\n",
       "      <td>4.0</td>\n",
       "      <td>5</td>\n",
       "      <td>6.0</td>\n",
       "    </tr>\n",
       "    <tr>\n",
       "      <th>2</th>\n",
       "      <td>NaN</td>\n",
       "      <td>9</td>\n",
       "      <td>NaN</td>\n",
       "    </tr>\n",
       "  </tbody>\n",
       "</table>\n",
       "</div>"
      ],
      "text/plain": [
       "     A  B    C\n",
       "0  1.0  2  NaN\n",
       "1  4.0  5  6.0\n",
       "2  NaN  9  NaN"
      ]
     },
     "execution_count": 37,
     "metadata": {},
     "output_type": "execute_result"
    }
   ],
   "source": [
    "data_frame = pd.DataFrame(\n",
    "    [\n",
    "        [1, 2, np.nan],\n",
    "        [4, 5, 6],\n",
    "        [np.nan, 9, np.nan],\n",
    "    ],\n",
    "    columns=list(\"ABC\"),\n",
    ")\n",
    "data_frame"
   ]
  },
  {
   "cell_type": "code",
   "execution_count": 38,
   "id": "c7689b62",
   "metadata": {},
   "outputs": [
    {
     "data": {
      "text/html": [
       "<div>\n",
       "<style scoped>\n",
       "    .dataframe tbody tr th:only-of-type {\n",
       "        vertical-align: middle;\n",
       "    }\n",
       "\n",
       "    .dataframe tbody tr th {\n",
       "        vertical-align: top;\n",
       "    }\n",
       "\n",
       "    .dataframe thead th {\n",
       "        text-align: right;\n",
       "    }\n",
       "</style>\n",
       "<table border=\"1\" class=\"dataframe\">\n",
       "  <thead>\n",
       "    <tr style=\"text-align: right;\">\n",
       "      <th></th>\n",
       "      <th>A</th>\n",
       "      <th>B</th>\n",
       "      <th>C</th>\n",
       "    </tr>\n",
       "  </thead>\n",
       "  <tbody>\n",
       "    <tr>\n",
       "      <th>0</th>\n",
       "      <td>1.0</td>\n",
       "      <td>2</td>\n",
       "      <td>0.0</td>\n",
       "    </tr>\n",
       "    <tr>\n",
       "      <th>1</th>\n",
       "      <td>4.0</td>\n",
       "      <td>5</td>\n",
       "      <td>6.0</td>\n",
       "    </tr>\n",
       "    <tr>\n",
       "      <th>2</th>\n",
       "      <td>0.0</td>\n",
       "      <td>9</td>\n",
       "      <td>0.0</td>\n",
       "    </tr>\n",
       "  </tbody>\n",
       "</table>\n",
       "</div>"
      ],
      "text/plain": [
       "     A  B    C\n",
       "0  1.0  2  0.0\n",
       "1  4.0  5  6.0\n",
       "2  0.0  9  0.0"
      ]
     },
     "execution_count": 38,
     "metadata": {},
     "output_type": "execute_result"
    }
   ],
   "source": [
    "data_frame.fillna(0)"
   ]
  },
  {
   "cell_type": "markdown",
   "id": "61a4f757",
   "metadata": {},
   "source": [
    "Мы также можем использовать объект `pd.Series`, чтобы заполнять пропущенные значения в разных столбцах по-разному."
   ]
  },
  {
   "cell_type": "code",
   "execution_count": 39,
   "id": "e8cb697b",
   "metadata": {},
   "outputs": [
    {
     "data": {
      "text/html": [
       "<div>\n",
       "<style scoped>\n",
       "    .dataframe tbody tr th:only-of-type {\n",
       "        vertical-align: middle;\n",
       "    }\n",
       "\n",
       "    .dataframe tbody tr th {\n",
       "        vertical-align: top;\n",
       "    }\n",
       "\n",
       "    .dataframe thead th {\n",
       "        text-align: right;\n",
       "    }\n",
       "</style>\n",
       "<table border=\"1\" class=\"dataframe\">\n",
       "  <thead>\n",
       "    <tr style=\"text-align: right;\">\n",
       "      <th></th>\n",
       "      <th>A</th>\n",
       "      <th>B</th>\n",
       "      <th>C</th>\n",
       "    </tr>\n",
       "  </thead>\n",
       "  <tbody>\n",
       "    <tr>\n",
       "      <th>0</th>\n",
       "      <td>1.0</td>\n",
       "      <td>2</td>\n",
       "      <td>69.0</td>\n",
       "    </tr>\n",
       "    <tr>\n",
       "      <th>1</th>\n",
       "      <td>4.0</td>\n",
       "      <td>5</td>\n",
       "      <td>6.0</td>\n",
       "    </tr>\n",
       "    <tr>\n",
       "      <th>2</th>\n",
       "      <td>42.0</td>\n",
       "      <td>9</td>\n",
       "      <td>69.0</td>\n",
       "    </tr>\n",
       "  </tbody>\n",
       "</table>\n",
       "</div>"
      ],
      "text/plain": [
       "      A  B     C\n",
       "0   1.0  2  69.0\n",
       "1   4.0  5   6.0\n",
       "2  42.0  9  69.0"
      ]
     },
     "execution_count": 39,
     "metadata": {},
     "output_type": "execute_result"
    }
   ],
   "source": [
    "fill_values = pd.Series(\n",
    "    data=[42, 69],\n",
    "    index=list(\"AC\"),\n",
    ")\n",
    "data_frame.fillna(fill_values)"
   ]
  },
  {
   "cell_type": "markdown",
   "id": "493a01f5",
   "metadata": {},
   "source": [
    "Из-за двумерной природы объекта `pd.DataFrame` при использовании методов `ffill` и `bfill` мы можем выбирать размерность, вдоль которой будут использоваться предшествующие и следующие значения для заполнения пропусков. По умолчанию пропуски заполняются вдоль столбцов."
   ]
  },
  {
   "cell_type": "code",
   "execution_count": 40,
   "id": "881f8878",
   "metadata": {},
   "outputs": [
    {
     "data": {
      "text/html": [
       "<div>\n",
       "<style scoped>\n",
       "    .dataframe tbody tr th:only-of-type {\n",
       "        vertical-align: middle;\n",
       "    }\n",
       "\n",
       "    .dataframe tbody tr th {\n",
       "        vertical-align: top;\n",
       "    }\n",
       "\n",
       "    .dataframe thead th {\n",
       "        text-align: right;\n",
       "    }\n",
       "</style>\n",
       "<table border=\"1\" class=\"dataframe\">\n",
       "  <thead>\n",
       "    <tr style=\"text-align: right;\">\n",
       "      <th></th>\n",
       "      <th>A</th>\n",
       "      <th>B</th>\n",
       "      <th>C</th>\n",
       "    </tr>\n",
       "  </thead>\n",
       "  <tbody>\n",
       "    <tr>\n",
       "      <th>0</th>\n",
       "      <td>1.0</td>\n",
       "      <td>2</td>\n",
       "      <td>NaN</td>\n",
       "    </tr>\n",
       "    <tr>\n",
       "      <th>1</th>\n",
       "      <td>4.0</td>\n",
       "      <td>5</td>\n",
       "      <td>6.0</td>\n",
       "    </tr>\n",
       "    <tr>\n",
       "      <th>2</th>\n",
       "      <td>4.0</td>\n",
       "      <td>9</td>\n",
       "      <td>6.0</td>\n",
       "    </tr>\n",
       "  </tbody>\n",
       "</table>\n",
       "</div>"
      ],
      "text/plain": [
       "     A  B    C\n",
       "0  1.0  2  NaN\n",
       "1  4.0  5  6.0\n",
       "2  4.0  9  6.0"
      ]
     },
     "execution_count": 40,
     "metadata": {},
     "output_type": "execute_result"
    }
   ],
   "source": [
    "data_frame.ffill()"
   ]
  },
  {
   "cell_type": "code",
   "execution_count": 41,
   "id": "41cebba2",
   "metadata": {},
   "outputs": [
    {
     "data": {
      "text/html": [
       "<div>\n",
       "<style scoped>\n",
       "    .dataframe tbody tr th:only-of-type {\n",
       "        vertical-align: middle;\n",
       "    }\n",
       "\n",
       "    .dataframe tbody tr th {\n",
       "        vertical-align: top;\n",
       "    }\n",
       "\n",
       "    .dataframe thead th {\n",
       "        text-align: right;\n",
       "    }\n",
       "</style>\n",
       "<table border=\"1\" class=\"dataframe\">\n",
       "  <thead>\n",
       "    <tr style=\"text-align: right;\">\n",
       "      <th></th>\n",
       "      <th>A</th>\n",
       "      <th>B</th>\n",
       "      <th>C</th>\n",
       "    </tr>\n",
       "  </thead>\n",
       "  <tbody>\n",
       "    <tr>\n",
       "      <th>0</th>\n",
       "      <td>1.0</td>\n",
       "      <td>2.0</td>\n",
       "      <td>2.0</td>\n",
       "    </tr>\n",
       "    <tr>\n",
       "      <th>1</th>\n",
       "      <td>4.0</td>\n",
       "      <td>5.0</td>\n",
       "      <td>6.0</td>\n",
       "    </tr>\n",
       "    <tr>\n",
       "      <th>2</th>\n",
       "      <td>NaN</td>\n",
       "      <td>9.0</td>\n",
       "      <td>9.0</td>\n",
       "    </tr>\n",
       "  </tbody>\n",
       "</table>\n",
       "</div>"
      ],
      "text/plain": [
       "     A    B    C\n",
       "0  1.0  2.0  2.0\n",
       "1  4.0  5.0  6.0\n",
       "2  NaN  9.0  9.0"
      ]
     },
     "execution_count": 41,
     "metadata": {},
     "output_type": "execute_result"
    }
   ],
   "source": [
    "data_frame.ffill(axis=\"columns\")"
   ]
  },
  {
   "cell_type": "markdown",
   "id": "0c121c30",
   "metadata": {},
   "source": [
    "## Операции агрегирования"
   ]
  },
  {
   "cell_type": "markdown",
   "id": "1edba434",
   "metadata": {},
   "source": [
    "Объекты Pandas также поддерживают операции агрегирования. Поскольку простые операции агрегирования ничем не отличаются от соответствующих операций в NumPy, не будет заострять на них наше внимание."
   ]
  },
  {
   "cell_type": "code",
   "execution_count": 42,
   "id": "53c570b3",
   "metadata": {},
   "outputs": [
    {
     "data": {
      "text/html": [
       "<div>\n",
       "<style scoped>\n",
       "    .dataframe tbody tr th:only-of-type {\n",
       "        vertical-align: middle;\n",
       "    }\n",
       "\n",
       "    .dataframe tbody tr th {\n",
       "        vertical-align: top;\n",
       "    }\n",
       "\n",
       "    .dataframe thead th {\n",
       "        text-align: right;\n",
       "    }\n",
       "</style>\n",
       "<table border=\"1\" class=\"dataframe\">\n",
       "  <thead>\n",
       "    <tr style=\"text-align: right;\">\n",
       "      <th></th>\n",
       "      <th>method</th>\n",
       "      <th>number</th>\n",
       "      <th>orbital_period</th>\n",
       "      <th>mass</th>\n",
       "      <th>distance</th>\n",
       "      <th>year</th>\n",
       "    </tr>\n",
       "  </thead>\n",
       "  <tbody>\n",
       "    <tr>\n",
       "      <th>481</th>\n",
       "      <td>Radial Velocity</td>\n",
       "      <td>1</td>\n",
       "      <td>386.30000</td>\n",
       "      <td>1.62</td>\n",
       "      <td>34.57</td>\n",
       "      <td>2003</td>\n",
       "    </tr>\n",
       "    <tr>\n",
       "      <th>536</th>\n",
       "      <td>Radial Velocity</td>\n",
       "      <td>1</td>\n",
       "      <td>297.30000</td>\n",
       "      <td>0.61</td>\n",
       "      <td>127.55</td>\n",
       "      <td>2007</td>\n",
       "    </tr>\n",
       "    <tr>\n",
       "      <th>114</th>\n",
       "      <td>Radial Velocity</td>\n",
       "      <td>1</td>\n",
       "      <td>15.76491</td>\n",
       "      <td>3.91</td>\n",
       "      <td>10.91</td>\n",
       "      <td>1999</td>\n",
       "    </tr>\n",
       "    <tr>\n",
       "      <th>503</th>\n",
       "      <td>Radial Velocity</td>\n",
       "      <td>2</td>\n",
       "      <td>391.90000</td>\n",
       "      <td>0.82</td>\n",
       "      <td>43.40</td>\n",
       "      <td>2007</td>\n",
       "    </tr>\n",
       "    <tr>\n",
       "      <th>512</th>\n",
       "      <td>Radial Velocity</td>\n",
       "      <td>2</td>\n",
       "      <td>1178.40000</td>\n",
       "      <td>2.10</td>\n",
       "      <td>52.72</td>\n",
       "      <td>2006</td>\n",
       "    </tr>\n",
       "  </tbody>\n",
       "</table>\n",
       "</div>"
      ],
      "text/plain": [
       "              method  number  orbital_period  mass  distance  year\n",
       "481  Radial Velocity       1       386.30000  1.62     34.57  2003\n",
       "536  Radial Velocity       1       297.30000  0.61    127.55  2007\n",
       "114  Radial Velocity       1        15.76491  3.91     10.91  1999\n",
       "503  Radial Velocity       2       391.90000  0.82     43.40  2007\n",
       "512  Radial Velocity       2      1178.40000  2.10     52.72  2006"
      ]
     },
     "execution_count": 42,
     "metadata": {},
     "output_type": "execute_result"
    }
   ],
   "source": [
    "planets_data = sns.load_dataset(\"planets\")\n",
    "planets_data.sample(n=5)"
   ]
  },
  {
   "cell_type": "code",
   "execution_count": 43,
   "id": "fd690918",
   "metadata": {},
   "outputs": [
    {
     "name": "stdout",
     "output_type": "stream",
     "text": [
      "mean orbital period: 2002.92;\n",
      "first year of research: 1989;\n",
      "last year of research: 2014;\n"
     ]
    }
   ],
   "source": [
    "print(\n",
    "    f\"mean orbital period: {planets_data['orbital_period'].mean():.2f};\",\n",
    "    f\"first year of research: {planets_data['year'].min()};\",\n",
    "    f\"last year of research: {planets_data['year'].max()};\",\n",
    "    sep=\"\\n\",\n",
    ")"
   ]
  },
  {
   "cell_type": "markdown",
   "id": "9271101b",
   "metadata": {},
   "source": [
    "С помощью метода `unique` возможно получение уникальных значений, хранящихся в объекте типа `pd.Series`. "
   ]
  },
  {
   "cell_type": "code",
   "execution_count": 44,
   "id": "374e7002",
   "metadata": {},
   "outputs": [
    {
     "data": {
      "text/plain": [
       "array(['Radial Velocity', 'Imaging', 'Eclipse Timing Variations',\n",
       "       'Transit', 'Astrometry', 'Transit Timing Variations',\n",
       "       'Orbital Brightness Modulation', 'Microlensing', 'Pulsar Timing',\n",
       "       'Pulsation Timing Variations'], dtype=object)"
      ]
     },
     "execution_count": 44,
     "metadata": {},
     "output_type": "execute_result"
    }
   ],
   "source": [
    "planets_data[\"method\"].unique()"
   ]
  },
  {
   "cell_type": "markdown",
   "id": "c383a088",
   "metadata": {},
   "source": [
    "Также в Pandas реализован метод `describe`, который позволяет вычислить основные статистики числовых данных. Эта функция может быть полезна при проведении разведывательного анализа данных."
   ]
  },
  {
   "cell_type": "code",
   "execution_count": 45,
   "id": "4864e8c7",
   "metadata": {},
   "outputs": [
    {
     "data": {
      "text/html": [
       "<div>\n",
       "<style scoped>\n",
       "    .dataframe tbody tr th:only-of-type {\n",
       "        vertical-align: middle;\n",
       "    }\n",
       "\n",
       "    .dataframe tbody tr th {\n",
       "        vertical-align: top;\n",
       "    }\n",
       "\n",
       "    .dataframe thead th {\n",
       "        text-align: right;\n",
       "    }\n",
       "</style>\n",
       "<table border=\"1\" class=\"dataframe\">\n",
       "  <thead>\n",
       "    <tr style=\"text-align: right;\">\n",
       "      <th></th>\n",
       "      <th>number</th>\n",
       "      <th>orbital_period</th>\n",
       "      <th>mass</th>\n",
       "      <th>distance</th>\n",
       "      <th>year</th>\n",
       "    </tr>\n",
       "  </thead>\n",
       "  <tbody>\n",
       "    <tr>\n",
       "      <th>count</th>\n",
       "      <td>498.00000</td>\n",
       "      <td>498.000000</td>\n",
       "      <td>498.000000</td>\n",
       "      <td>498.000000</td>\n",
       "      <td>498.000000</td>\n",
       "    </tr>\n",
       "    <tr>\n",
       "      <th>mean</th>\n",
       "      <td>1.73494</td>\n",
       "      <td>835.778671</td>\n",
       "      <td>2.509320</td>\n",
       "      <td>52.068213</td>\n",
       "      <td>2007.377510</td>\n",
       "    </tr>\n",
       "    <tr>\n",
       "      <th>std</th>\n",
       "      <td>1.17572</td>\n",
       "      <td>1469.128259</td>\n",
       "      <td>3.636274</td>\n",
       "      <td>46.596041</td>\n",
       "      <td>4.167284</td>\n",
       "    </tr>\n",
       "    <tr>\n",
       "      <th>min</th>\n",
       "      <td>1.00000</td>\n",
       "      <td>1.328300</td>\n",
       "      <td>0.003600</td>\n",
       "      <td>1.350000</td>\n",
       "      <td>1989.000000</td>\n",
       "    </tr>\n",
       "    <tr>\n",
       "      <th>25%</th>\n",
       "      <td>1.00000</td>\n",
       "      <td>38.272250</td>\n",
       "      <td>0.212500</td>\n",
       "      <td>24.497500</td>\n",
       "      <td>2005.000000</td>\n",
       "    </tr>\n",
       "    <tr>\n",
       "      <th>50%</th>\n",
       "      <td>1.00000</td>\n",
       "      <td>357.000000</td>\n",
       "      <td>1.245000</td>\n",
       "      <td>39.940000</td>\n",
       "      <td>2009.000000</td>\n",
       "    </tr>\n",
       "    <tr>\n",
       "      <th>75%</th>\n",
       "      <td>2.00000</td>\n",
       "      <td>999.600000</td>\n",
       "      <td>2.867500</td>\n",
       "      <td>59.332500</td>\n",
       "      <td>2011.000000</td>\n",
       "    </tr>\n",
       "    <tr>\n",
       "      <th>max</th>\n",
       "      <td>6.00000</td>\n",
       "      <td>17337.500000</td>\n",
       "      <td>25.000000</td>\n",
       "      <td>354.000000</td>\n",
       "      <td>2014.000000</td>\n",
       "    </tr>\n",
       "  </tbody>\n",
       "</table>\n",
       "</div>"
      ],
      "text/plain": [
       "          number  orbital_period        mass    distance         year\n",
       "count  498.00000      498.000000  498.000000  498.000000   498.000000\n",
       "mean     1.73494      835.778671    2.509320   52.068213  2007.377510\n",
       "std      1.17572     1469.128259    3.636274   46.596041     4.167284\n",
       "min      1.00000        1.328300    0.003600    1.350000  1989.000000\n",
       "25%      1.00000       38.272250    0.212500   24.497500  2005.000000\n",
       "50%      1.00000      357.000000    1.245000   39.940000  2009.000000\n",
       "75%      2.00000      999.600000    2.867500   59.332500  2011.000000\n",
       "max      6.00000    17337.500000   25.000000  354.000000  2014.000000"
      ]
     },
     "execution_count": 45,
     "metadata": {},
     "output_type": "execute_result"
    }
   ],
   "source": [
    "planets_data.dropna().describe()"
   ]
  },
  {
   "cell_type": "markdown",
   "id": "0969f4d1",
   "metadata": {},
   "source": [
    "## Операции со строковыми данными"
   ]
  },
  {
   "cell_type": "markdown",
   "id": "f1259f42",
   "metadata": {},
   "source": [
    "Обсуждая NumPy, мы с вами занимались исключительно работой с числовыми данными. Теперь, работая с таблицами Pandas, нам нередко будут встречаться строковые данные. Необходимо уметь эффективно обрабатывать строковые данные и уметь пользоваться векторизованными строковыми операциями. Это можно сделать, используя специальный атрибут объектов `pd.Series` и `pd.DataFrame` - `str`."
   ]
  },
  {
   "cell_type": "code",
   "execution_count": 46,
   "id": "4989a08d",
   "metadata": {},
   "outputs": [
    {
     "name": "stdout",
     "output_type": "stream",
     "text": [
      "names:\n",
      "0      john\n",
      "1      Paul\n",
      "2    george\n",
      "3     RINGO\n",
      "dtype: object\n",
      "\n",
      "names corrected:\n",
      "0      John\n",
      "1      Paul\n",
      "2    George\n",
      "3     Ringo\n",
      "dtype: object\n"
     ]
    }
   ],
   "source": [
    "names = pd.Series(\n",
    "    data=[\"john\", \"Paul\", \"george\", \"RINGO\"],\n",
    ")\n",
    "\n",
    "print(\n",
    "    f\"names:\\n{names}\",\n",
    "    f\"names corrected:\\n{names.str.capitalize()}\",\n",
    "    sep=\"\\n\\n\",\n",
    ")"
   ]
  },
  {
   "cell_type": "markdown",
   "id": "6b89eb70",
   "metadata": {},
   "source": [
    "В Pandas реализовано множество векторизованных операций для работы со строками, являющееся аналогом множества методов строк в Python. Если вы знакомы с оригинальными методами, вы без труда сможете разобраться с логикой работы аналогов в Pandas. Ниже приведем пару примеров."
   ]
  },
  {
   "cell_type": "code",
   "execution_count": 47,
   "id": "38d4b46c",
   "metadata": {},
   "outputs": [
    {
     "name": "stdout",
     "output_type": "stream",
     "text": [
      "names lens:\n",
      "0    11\n",
      "1    15\n",
      "2    15\n",
      "3    11\n",
      "dtype: int64\n",
      "\n",
      "correction mask:\n",
      "0     True\n",
      "1    False\n",
      "2     True\n",
      "3     True\n",
      "dtype: bool\n",
      "\n",
      "names split:\n",
      "0        [John, Lennon]\n",
      "1    [Paul, MacCartney]\n",
      "2    [George, Harrison]\n",
      "3        [Ringo, Starr]\n",
      "dtype: object\n"
     ]
    }
   ],
   "source": [
    "names = pd.Series(\n",
    "    data=[\n",
    "        \"John Lennon\",\n",
    "        \"Paul MacCartney\",\n",
    "        \"George Harrison\",\n",
    "        \"Ringo Starr\",\n",
    "    ],\n",
    ")\n",
    "\n",
    "print(\n",
    "    f\"names lens:\\n{names.str.len()}\",\n",
    "    f\"correction mask:\\n{names.str.istitle()}\",\n",
    "    f\"names split:\\n{names.str.split()}\",\n",
    "    sep=\"\\n\\n\",\n",
    ")"
   ]
  },
  {
   "cell_type": "markdown",
   "id": "40981b65",
   "metadata": {},
   "source": [
    "Также в Pandas реализованы векторизованные операции для работы с регулярными выражениями."
   ]
  },
  {
   "cell_type": "code",
   "execution_count": 48,
   "id": "26bf58fc",
   "metadata": {},
   "outputs": [
    {
     "name": "stdout",
     "output_type": "stream",
     "text": [
      "pattern matching:\n",
      "0    True\n",
      "1    True\n",
      "2    True\n",
      "3    True\n",
      "dtype: bool\n",
      "\n",
      "pattern inclusion:\n",
      "0     True\n",
      "1    False\n",
      "2    False\n",
      "3    False\n",
      "dtype: bool\n",
      "\n",
      "pattern finding:\n",
      "0        [John Lennon]\n",
      "1                   []\n",
      "2    [George Harrison]\n",
      "3        [Ringo Starr]\n",
      "dtype: object\n"
     ]
    }
   ],
   "source": [
    "print(\n",
    "    f\"pattern matching:\\n{names.str.match(r'[A-Za-z]+')}\",\n",
    "    f\"pattern inclusion:\\n{names.str.contains(r'[Jj]ohn')}\",\n",
    "    f\"pattern finding:\\n{names.str.findall(r'^[^AEIOUY]*[^aeiouy]$')}\",\n",
    "    sep=\"\\n\\n\",\n",
    ")"
   ]
  },
  {
   "cell_type": "markdown",
   "id": "5cc4b6b1",
   "metadata": {},
   "source": [
    "Также реализованы операции векторизованного среза строк."
   ]
  },
  {
   "cell_type": "code",
   "execution_count": 49,
   "id": "ec9f1870",
   "metadata": {},
   "outputs": [
    {
     "name": "stdout",
     "output_type": "stream",
     "text": [
      "explicit slice:\n",
      "0    Joh\n",
      "1    Pau\n",
      "2    Geo\n",
      "3    Rin\n",
      "dtype: object\n",
      "\n",
      "implicit slice:\n",
      "0    Joh\n",
      "1    Pau\n",
      "2    Geo\n",
      "3    Rin\n",
      "dtype: object\n"
     ]
    }
   ],
   "source": [
    "print(\n",
    "    f\"explicit slice:\\n{names.str.slice(0, 3)}\",\n",
    "    f\"implicit slice:\\n{names.str[:3]}\",\n",
    "    sep=\"\\n\\n\",\n",
    ")"
   ]
  },
  {
   "cell_type": "markdown",
   "id": "828e423a",
   "metadata": {},
   "source": [
    "## Задача 1. My heart will go on\n",
    "\n",
    "Датасет **titanic** из библиотеки `Seaborn` содержит информацию о пассажирах легендарного корабля Титаник, который затонул в 1912 году после столкновения с айсбергом. Этот набор данных часто используется для обучения и тестирования алгоритмов машинного обучения, особенно в задачах бинарной классификации (выжил / не выжил).\n",
    "\n",
    "**Описание данных**\n",
    "\n",
    "| Поле         | Тип      | Описание |\n",
    "|--------------|----------|----------|\n",
    "| `survived`   | int      | Выжил (1) или не выжил (0) |\n",
    "| `pclass`     | int      | Класс билета (1, 2, 3) |\n",
    "| `sex`        | str      | Пол (`male`/`female`) |\n",
    "| `age`        | float    | Возраст |\n",
    "| `sibsp`      | int      | Количество братьев/сестёр/супругов на борту |\n",
    "| `parch`      | int      | Количество родителей/детей на борту |\n",
    "| `fare`       | float    | Стоимость билета |\n",
    "| `embarked`   | str      | Порт посадки (`C`=Cherbourg, `Q`=Queenstown, `S`=Southampton) |\n",
    "| `class`      | str      | Класс билета (`First`, `Second`, `Third`) |\n",
    "| `who`        | str      | Категория: `man`, `woman` или `child` |\n",
    "| `adult_male` | bool     | Является ли взрослым мужчиной |\n",
    "| `deck`       | str      | Палуба |\n",
    "| `embark_town`| str      | Название порта посадки |\n",
    "| `alive`      | str      | Выжил (`yes`/`no`) |\n",
    "| `alone`      | bool     | Путешествовал один |\n",
    "\n",
    "**Загрузка датасета**"
   ]
  },
  {
   "cell_type": "code",
   "execution_count": 52,
   "id": "d7b00711",
   "metadata": {},
   "outputs": [
    {
     "data": {
      "text/html": [
       "<div>\n",
       "<style scoped>\n",
       "    .dataframe tbody tr th:only-of-type {\n",
       "        vertical-align: middle;\n",
       "    }\n",
       "\n",
       "    .dataframe tbody tr th {\n",
       "        vertical-align: top;\n",
       "    }\n",
       "\n",
       "    .dataframe thead th {\n",
       "        text-align: right;\n",
       "    }\n",
       "</style>\n",
       "<table border=\"1\" class=\"dataframe\">\n",
       "  <thead>\n",
       "    <tr style=\"text-align: right;\">\n",
       "      <th></th>\n",
       "      <th>survived</th>\n",
       "      <th>pclass</th>\n",
       "      <th>sex</th>\n",
       "      <th>age</th>\n",
       "      <th>sibsp</th>\n",
       "      <th>parch</th>\n",
       "      <th>fare</th>\n",
       "      <th>embarked</th>\n",
       "      <th>class</th>\n",
       "      <th>who</th>\n",
       "      <th>adult_male</th>\n",
       "      <th>deck</th>\n",
       "      <th>embark_town</th>\n",
       "      <th>alive</th>\n",
       "      <th>alone</th>\n",
       "    </tr>\n",
       "  </thead>\n",
       "  <tbody>\n",
       "    <tr>\n",
       "      <th>466</th>\n",
       "      <td>0</td>\n",
       "      <td>2</td>\n",
       "      <td>male</td>\n",
       "      <td>NaN</td>\n",
       "      <td>0</td>\n",
       "      <td>0</td>\n",
       "      <td>0.0000</td>\n",
       "      <td>S</td>\n",
       "      <td>Second</td>\n",
       "      <td>man</td>\n",
       "      <td>True</td>\n",
       "      <td>NaN</td>\n",
       "      <td>Southampton</td>\n",
       "      <td>no</td>\n",
       "      <td>True</td>\n",
       "    </tr>\n",
       "    <tr>\n",
       "      <th>329</th>\n",
       "      <td>1</td>\n",
       "      <td>1</td>\n",
       "      <td>female</td>\n",
       "      <td>16.0</td>\n",
       "      <td>0</td>\n",
       "      <td>1</td>\n",
       "      <td>57.9792</td>\n",
       "      <td>C</td>\n",
       "      <td>First</td>\n",
       "      <td>woman</td>\n",
       "      <td>False</td>\n",
       "      <td>B</td>\n",
       "      <td>Cherbourg</td>\n",
       "      <td>yes</td>\n",
       "      <td>False</td>\n",
       "    </tr>\n",
       "    <tr>\n",
       "      <th>467</th>\n",
       "      <td>0</td>\n",
       "      <td>1</td>\n",
       "      <td>male</td>\n",
       "      <td>56.0</td>\n",
       "      <td>0</td>\n",
       "      <td>0</td>\n",
       "      <td>26.5500</td>\n",
       "      <td>S</td>\n",
       "      <td>First</td>\n",
       "      <td>man</td>\n",
       "      <td>True</td>\n",
       "      <td>NaN</td>\n",
       "      <td>Southampton</td>\n",
       "      <td>no</td>\n",
       "      <td>True</td>\n",
       "    </tr>\n",
       "    <tr>\n",
       "      <th>355</th>\n",
       "      <td>0</td>\n",
       "      <td>3</td>\n",
       "      <td>male</td>\n",
       "      <td>28.0</td>\n",
       "      <td>0</td>\n",
       "      <td>0</td>\n",
       "      <td>9.5000</td>\n",
       "      <td>S</td>\n",
       "      <td>Third</td>\n",
       "      <td>man</td>\n",
       "      <td>True</td>\n",
       "      <td>NaN</td>\n",
       "      <td>Southampton</td>\n",
       "      <td>no</td>\n",
       "      <td>True</td>\n",
       "    </tr>\n",
       "    <tr>\n",
       "      <th>30</th>\n",
       "      <td>0</td>\n",
       "      <td>1</td>\n",
       "      <td>male</td>\n",
       "      <td>40.0</td>\n",
       "      <td>0</td>\n",
       "      <td>0</td>\n",
       "      <td>27.7208</td>\n",
       "      <td>C</td>\n",
       "      <td>First</td>\n",
       "      <td>man</td>\n",
       "      <td>True</td>\n",
       "      <td>NaN</td>\n",
       "      <td>Cherbourg</td>\n",
       "      <td>no</td>\n",
       "      <td>True</td>\n",
       "    </tr>\n",
       "  </tbody>\n",
       "</table>\n",
       "</div>"
      ],
      "text/plain": [
       "     survived  pclass     sex   age  sibsp  parch     fare embarked   class  \\\n",
       "466         0       2    male   NaN      0      0   0.0000        S  Second   \n",
       "329         1       1  female  16.0      0      1  57.9792        C   First   \n",
       "467         0       1    male  56.0      0      0  26.5500        S   First   \n",
       "355         0       3    male  28.0      0      0   9.5000        S   Third   \n",
       "30          0       1    male  40.0      0      0  27.7208        C   First   \n",
       "\n",
       "       who  adult_male deck  embark_town alive  alone  \n",
       "466    man        True  NaN  Southampton    no   True  \n",
       "329  woman       False    B    Cherbourg   yes  False  \n",
       "467    man        True  NaN  Southampton    no   True  \n",
       "355    man        True  NaN  Southampton    no   True  \n",
       "30     man        True  NaN    Cherbourg    no   True  "
      ]
     },
     "execution_count": 52,
     "metadata": {},
     "output_type": "execute_result"
    }
   ],
   "source": [
    "titanic_data = sns.load_dataset(\"titanic\")\n",
    "titanic_data.sample(5)"
   ]
  },
  {
   "cell_type": "markdown",
   "id": "0fdf1941",
   "metadata": {},
   "source": [
    "**Задача**\n",
    "\n",
    "Ниже описаны ... небольших заданий, которые вам необходимо решить."
   ]
  },
  {
   "cell_type": "markdown",
   "id": "cd2f1773",
   "metadata": {},
   "source": []
  }
 ],
 "metadata": {
  "kernelspec": {
   "display_name": "venv",
   "language": "python",
   "name": "python3"
  },
  "language_info": {
   "codemirror_mode": {
    "name": "ipython",
    "version": 3
   },
   "file_extension": ".py",
   "mimetype": "text/x-python",
   "name": "python",
   "nbconvert_exporter": "python",
   "pygments_lexer": "ipython3",
   "version": "3.11.1"
  }
 },
 "nbformat": 4,
 "nbformat_minor": 5
}
